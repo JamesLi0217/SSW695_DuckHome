{
 "cells": [
  {
   "cell_type": "markdown",
   "metadata": {},
   "source": [
    "## ARIMA model - AutoRegressive Integrated Moving Average model"
   ]
  },
  {
   "cell_type": "code",
   "execution_count": 1,
   "metadata": {},
   "outputs": [],
   "source": [
    "import pandas as pd\n",
    "import numpy as np\n",
    "import matplotlib.pyplot as plt\n",
    "import warnings\n",
    "\n",
    "%matplotlib inline\n",
    "warnings.filterwarnings('ignore')"
   ]
  },
  {
   "cell_type": "code",
   "execution_count": 2,
   "metadata": {},
   "outputs": [],
   "source": [
    "# Load Hoboken Area Price\n",
    "df = pd.read_csv('../pre_data/Hoboken_price.csv')"
   ]
  },
  {
   "cell_type": "code",
   "execution_count": 3,
   "metadata": {},
   "outputs": [],
   "source": [
    "data = df.set_index('date')\n",
    "data.index = pd.DatetimeIndex(data.index)"
   ]
  },
  {
   "cell_type": "code",
   "execution_count": 4,
   "metadata": {},
   "outputs": [
    {
     "data": {
      "text/html": [
       "<div>\n",
       "<style scoped>\n",
       "    .dataframe tbody tr th:only-of-type {\n",
       "        vertical-align: middle;\n",
       "    }\n",
       "\n",
       "    .dataframe tbody tr th {\n",
       "        vertical-align: top;\n",
       "    }\n",
       "\n",
       "    .dataframe thead th {\n",
       "        text-align: right;\n",
       "    }\n",
       "</style>\n",
       "<table border=\"1\" class=\"dataframe\">\n",
       "  <thead>\n",
       "    <tr style=\"text-align: right;\">\n",
       "      <th></th>\n",
       "      <th>price</th>\n",
       "    </tr>\n",
       "    <tr>\n",
       "      <th>date</th>\n",
       "      <th></th>\n",
       "    </tr>\n",
       "  </thead>\n",
       "  <tbody>\n",
       "    <tr>\n",
       "      <th>2010-11-01</th>\n",
       "      <td>2534.0</td>\n",
       "    </tr>\n",
       "    <tr>\n",
       "      <th>2010-12-01</th>\n",
       "      <td>2553.0</td>\n",
       "    </tr>\n",
       "    <tr>\n",
       "      <th>2011-01-01</th>\n",
       "      <td>2553.0</td>\n",
       "    </tr>\n",
       "    <tr>\n",
       "      <th>2011-02-01</th>\n",
       "      <td>2539.0</td>\n",
       "    </tr>\n",
       "    <tr>\n",
       "      <th>2011-03-01</th>\n",
       "      <td>2525.0</td>\n",
       "    </tr>\n",
       "  </tbody>\n",
       "</table>\n",
       "</div>"
      ],
      "text/plain": [
       "             price\n",
       "date              \n",
       "2010-11-01  2534.0\n",
       "2010-12-01  2553.0\n",
       "2011-01-01  2553.0\n",
       "2011-02-01  2539.0\n",
       "2011-03-01  2525.0"
      ]
     },
     "execution_count": 4,
     "metadata": {},
     "output_type": "execute_result"
    }
   ],
   "source": [
    "data.head()"
   ]
  },
  {
   "cell_type": "code",
   "execution_count": 5,
   "metadata": {},
   "outputs": [
    {
     "name": "stdout",
     "output_type": "stream",
     "text": [
      "<class 'pandas.core.frame.DataFrame'>\n",
      "DatetimeIndex: 99 entries, 2010-11-01 to 2019-01-01\n",
      "Data columns (total 1 columns):\n",
      "price    99 non-null float64\n",
      "dtypes: float64(1)\n",
      "memory usage: 1.5 KB\n"
     ]
    }
   ],
   "source": [
    "data.info()"
   ]
  },
  {
   "cell_type": "code",
   "execution_count": 6,
   "metadata": {},
   "outputs": [
    {
     "name": "stdout",
     "output_type": "stream",
     "text": [
      "(-1.8704519883857313, 0.346086508425379, 10, 88, {'1%': -3.506944401824286, '5%': -2.894989819214876, '10%': -2.584614550619835}, 588.6211908693606)\n"
     ]
    }
   ],
   "source": [
    "# Select the best diff (Integrated)\n",
    "from statsmodels.tsa.stattools import adfuller as ADF\n",
    "\n",
    "print(ADF(data['price']))"
   ]
  },
  {
   "cell_type": "code",
   "execution_count": 7,
   "metadata": {},
   "outputs": [
    {
     "name": "stdout",
     "output_type": "stream",
     "text": [
      "(-1.7012039439152993, 0.43049227574251736, 9, 88, {'1%': -3.506944401824286, '5%': -2.894989819214876, '10%': -2.584614550619835}, 585.0102940942284)\n"
     ]
    }
   ],
   "source": [
    "diff_1 = data.diff(1)\n",
    "diff_1 = diff_1.dropna()\n",
    "diff_1.columns = ['price_integrated']\n",
    "print(ADF(diff_1['price_integrated']))"
   ]
  },
  {
   "cell_type": "code",
   "execution_count": 8,
   "metadata": {},
   "outputs": [
    {
     "name": "stdout",
     "output_type": "stream",
     "text": [
      "(-6.156992729182019, 7.327774183151908e-08, 8, 88, {'1%': -3.506944401824286, '5%': -2.894989819214876, '10%': -2.584614550619835}, 579.136056583644)\n"
     ]
    }
   ],
   "source": [
    "diff_2 = diff_1.diff(1)\n",
    "diff_2 = diff_2.dropna()\n",
    "diff_2.columns = ['price_integrated']\n",
    "print(ADF(diff_2['price_integrated']))"
   ]
  },
  {
   "cell_type": "code",
   "execution_count": 9,
   "metadata": {},
   "outputs": [
    {
     "name": "stdout",
     "output_type": "stream",
     "text": [
      "(array([21.7257814]), array([3.14535623e-06]))\n"
     ]
    }
   ],
   "source": [
    "from statsmodels.stats.diagnostic import acorr_ljungbox\n",
    "\n",
    "noiseRes = acorr_ljungbox(diff_2, lags=1)\n",
    "print(noiseRes)"
   ]
  },
  {
   "cell_type": "code",
   "execution_count": 10,
   "metadata": {},
   "outputs": [],
   "source": [
    "# Select the best AR(p) and MA(q)\n",
    "from statsmodels.tsa.arima_model import ARMA\n",
    "\n",
    "def proper_model(data, maxLag): \n",
    "    init_bic = float(\"inf\")\n",
    "    init_p = 0\n",
    "    init_q = 0\n",
    "    init_properModel = None\n",
    "    for p in np.arange(maxLag):\n",
    "        for q in np.arange(maxLag):\n",
    "            model = ARMA(data, order=(p, q), freq='MS')\n",
    "            try:\n",
    "                results_ARMA = model.fit(disp=-1, method='css')\n",
    "            except:\n",
    "                continue\n",
    "            bic = results_ARMA.bic\n",
    "            if bic < init_bic:\n",
    "                init_p = p\n",
    "                init_q = q\n",
    "                init_properModel = results_ARMA\n",
    "                init_bic = bic\n",
    "    return init_bic, init_p, init_q, init_properModel"
   ]
  },
  {
   "cell_type": "code",
   "execution_count": 11,
   "metadata": {},
   "outputs": [
    {
     "name": "stderr",
     "output_type": "stream",
     "text": [
      "/Users/ryne/anaconda3/lib/python3.7/site-packages/statsmodels/base/model.py:488: HessianInversionWarning: Inverting hessian failed, no bse or cov_params available\n",
      "  'available', HessianInversionWarning)\n",
      "/Users/ryne/anaconda3/lib/python3.7/site-packages/statsmodels/base/model.py:488: HessianInversionWarning: Inverting hessian failed, no bse or cov_params available\n",
      "  'available', HessianInversionWarning)\n",
      "/Users/ryne/anaconda3/lib/python3.7/site-packages/statsmodels/base/model.py:488: HessianInversionWarning: Inverting hessian failed, no bse or cov_params available\n",
      "  'available', HessianInversionWarning)\n",
      "/Users/ryne/anaconda3/lib/python3.7/site-packages/statsmodels/base/model.py:488: HessianInversionWarning: Inverting hessian failed, no bse or cov_params available\n",
      "  'available', HessianInversionWarning)\n",
      "/Users/ryne/anaconda3/lib/python3.7/site-packages/statsmodels/base/model.py:488: HessianInversionWarning: Inverting hessian failed, no bse or cov_params available\n",
      "  'available', HessianInversionWarning)\n",
      "/Users/ryne/anaconda3/lib/python3.7/site-packages/statsmodels/base/model.py:508: ConvergenceWarning: Maximum Likelihood optimization failed to converge. Check mle_retvals\n",
      "  \"Check mle_retvals\", ConvergenceWarning)\n",
      "/Users/ryne/anaconda3/lib/python3.7/site-packages/statsmodels/base/model.py:488: HessianInversionWarning: Inverting hessian failed, no bse or cov_params available\n",
      "  'available', HessianInversionWarning)\n",
      "/Users/ryne/anaconda3/lib/python3.7/site-packages/statsmodels/base/model.py:488: HessianInversionWarning: Inverting hessian failed, no bse or cov_params available\n",
      "  'available', HessianInversionWarning)\n",
      "/Users/ryne/anaconda3/lib/python3.7/site-packages/statsmodels/base/model.py:488: HessianInversionWarning: Inverting hessian failed, no bse or cov_params available\n",
      "  'available', HessianInversionWarning)\n",
      "/Users/ryne/anaconda3/lib/python3.7/site-packages/statsmodels/base/model.py:488: HessianInversionWarning: Inverting hessian failed, no bse or cov_params available\n",
      "  'available', HessianInversionWarning)\n",
      "/Users/ryne/anaconda3/lib/python3.7/site-packages/statsmodels/base/model.py:488: HessianInversionWarning: Inverting hessian failed, no bse or cov_params available\n",
      "  'available', HessianInversionWarning)\n",
      "/Users/ryne/anaconda3/lib/python3.7/site-packages/statsmodels/base/model.py:488: HessianInversionWarning: Inverting hessian failed, no bse or cov_params available\n",
      "  'available', HessianInversionWarning)\n",
      "/Users/ryne/anaconda3/lib/python3.7/site-packages/statsmodels/base/model.py:488: HessianInversionWarning: Inverting hessian failed, no bse or cov_params available\n",
      "  'available', HessianInversionWarning)\n"
     ]
    }
   ],
   "source": [
    "p,q = proper_model(data, 8)[1:3]"
   ]
  },
  {
   "cell_type": "code",
   "execution_count": 12,
   "metadata": {},
   "outputs": [
    {
     "name": "stdout",
     "output_type": "stream",
     "text": [
      "5 2\n"
     ]
    }
   ],
   "source": [
    "print(p,q)"
   ]
  },
  {
   "cell_type": "code",
   "execution_count": 13,
   "metadata": {},
   "outputs": [],
   "source": [
    "from statsmodels.tsa.arima_model import ARIMA\n",
    "\n",
    "# Build ARIMA() model\n",
    "model = ARIMA(data, (p,2,q), freq='MS')\n",
    "arima_result = model.fit()"
   ]
  },
  {
   "cell_type": "code",
   "execution_count": 14,
   "metadata": {},
   "outputs": [
    {
     "data": {
      "text/html": [
       "<table class=\"simpletable\">\n",
       "<tr>\n",
       "        <td>Model:</td>              <td>ARIMA</td>              <td>BIC:</td>          <td>705.3118</td> \n",
       "</tr>\n",
       "<tr>\n",
       "  <td>Dependent Variable:</td>     <td>D2.price</td>        <td>Log-Likelihood:</td>     <td>-332.07</td> \n",
       "</tr>\n",
       "<tr>\n",
       "         <td>Date:</td>        <td>2019-03-27 22:28</td>        <td>Scale:</td>          <td>1.0000</td>  \n",
       "</tr>\n",
       "<tr>\n",
       "   <td>No. Observations:</td>         <td>97</td>               <td>Method:</td>         <td>css-mle</td> \n",
       "</tr>\n",
       "<tr>\n",
       "       <td>Df Model:</td>              <td>8</td>               <td>Sample:</td>       <td>01-01-2011</td>\n",
       "</tr>\n",
       "<tr>\n",
       "     <td>Df Residuals:</td>           <td>89</td>                  <td></td>           <td>01-01-2019</td>\n",
       "</tr>\n",
       "<tr>\n",
       "      <td>Converged:</td>           <td>1.0000</td>      <td>S.D. of innovations:</td>    <td>7.336</td>  \n",
       "</tr>\n",
       "<tr>\n",
       "    <td>No. Iterations:</td>        <td>25.0000</td>             <td>HQIC:</td>          <td>691.509</td> \n",
       "</tr>\n",
       "<tr>\n",
       "         <td>AIC:</td>             <td>682.1394</td>               <td></td>                <td></td>     \n",
       "</tr>\n",
       "</table>\n",
       "<table class=\"simpletable\">\n",
       "<tr>\n",
       "         <td></td>         <th>Coef.</th>  <th>Std.Err.</th>    <th>t</th>     <th>P>|t|</th> <th>[0.025</th>  <th>0.975]</th> \n",
       "</tr>\n",
       "<tr>\n",
       "  <th>const</th>          <td>-0.1361</td>  <td>0.2423</td>  <td>-0.5616</td> <td>0.5758</td> <td>-0.6111</td> <td>0.3389</td> \n",
       "</tr>\n",
       "<tr>\n",
       "  <th>ar.L1.D2.price</th> <td>1.3209</td>   <td>0.2530</td>  <td>5.2202</td>  <td>0.0000</td> <td>0.8250</td>  <td>1.8168</td> \n",
       "</tr>\n",
       "<tr>\n",
       "  <th>ar.L2.D2.price</th> <td>-0.7339</td>  <td>0.3921</td>  <td>-1.8717</td> <td>0.0645</td> <td>-1.5025</td> <td>0.0346</td> \n",
       "</tr>\n",
       "<tr>\n",
       "  <th>ar.L3.D2.price</th> <td>-0.2083</td>  <td>0.2457</td>  <td>-0.8478</td> <td>0.3988</td> <td>-0.6898</td> <td>0.2732</td> \n",
       "</tr>\n",
       "<tr>\n",
       "  <th>ar.L4.D2.price</th> <td>0.4211</td>   <td>0.1616</td>  <td>2.6055</td>  <td>0.0108</td> <td>0.1043</td>  <td>0.7379</td> \n",
       "</tr>\n",
       "<tr>\n",
       "  <th>ar.L5.D2.price</th> <td>-0.3073</td>  <td>0.1383</td>  <td>-2.2219</td> <td>0.0288</td> <td>-0.5784</td> <td>-0.0362</td>\n",
       "</tr>\n",
       "<tr>\n",
       "  <th>ma.L1.D2.price</th> <td>-0.9177</td>  <td>0.2516</td>  <td>-3.6471</td> <td>0.0004</td> <td>-1.4109</td> <td>-0.4246</td>\n",
       "</tr>\n",
       "<tr>\n",
       "  <th>ma.L2.D2.price</th> <td>0.0641</td>   <td>0.3018</td>  <td>0.2122</td>  <td>0.8324</td> <td>-0.5275</td> <td>0.6557</td> \n",
       "</tr>\n",
       "</table>\n",
       "<table class=\"simpletable\">\n",
       "<tr>\n",
       "    <td></td>    <th>Real</th>   <th>Imaginary</th> <th>Modulus</th> <th>Frequency</th>\n",
       "</tr>\n",
       "<tr>\n",
       "  <th>AR.1</th> <td>-1.4492</td>  <td>-0.0000</td>  <td>1.4492</td>   <td>-0.5000</td> \n",
       "</tr>\n",
       "<tr>\n",
       "  <th>AR.2</th> <td>0.9585</td>   <td>-0.6024</td>  <td>1.1321</td>   <td>-0.0893</td> \n",
       "</tr>\n",
       "<tr>\n",
       "  <th>AR.3</th> <td>0.9585</td>   <td>0.6024</td>   <td>1.1321</td>   <td>0.0893</td>  \n",
       "</tr>\n",
       "<tr>\n",
       "  <th>AR.4</th> <td>0.4513</td>   <td>-1.2444</td>  <td>1.3237</td>   <td>-0.1946</td> \n",
       "</tr>\n",
       "<tr>\n",
       "  <th>AR.5</th> <td>0.4513</td>   <td>1.2444</td>   <td>1.3237</td>   <td>0.1946</td>  \n",
       "</tr>\n",
       "<tr>\n",
       "  <th>MA.1</th> <td>1.1882</td>   <td>0.0000</td>   <td>1.1882</td>   <td>0.0000</td>  \n",
       "</tr>\n",
       "<tr>\n",
       "  <th>MA.2</th> <td>13.1367</td>  <td>0.0000</td>   <td>13.1367</td>  <td>0.0000</td>  \n",
       "</tr>\n",
       "</table>"
      ],
      "text/plain": [
       "<class 'statsmodels.iolib.summary2.Summary'>\n",
       "\"\"\"\n",
       "                           Results: ARIMA\n",
       "====================================================================\n",
       "Model:              ARIMA            BIC:                 705.3118  \n",
       "Dependent Variable: D2.price         Log-Likelihood:      -332.07   \n",
       "Date:               2019-03-27 22:28 Scale:               1.0000    \n",
       "No. Observations:   97               Method:              css-mle   \n",
       "Df Model:           8                Sample:              01-01-2011\n",
       "Df Residuals:       89                                    01-01-2019\n",
       "Converged:          1.0000           S.D. of innovations: 7.336     \n",
       "No. Iterations:     25.0000          HQIC:                691.509   \n",
       "AIC:                682.1394                                        \n",
       "---------------------------------------------------------------------\n",
       "                  Coef.   Std.Err.     t     P>|t|    [0.025   0.975]\n",
       "---------------------------------------------------------------------\n",
       "const            -0.1361    0.2423  -0.5616  0.5758  -0.6111   0.3389\n",
       "ar.L1.D2.price    1.3209    0.2530   5.2202  0.0000   0.8250   1.8168\n",
       "ar.L2.D2.price   -0.7339    0.3921  -1.8717  0.0645  -1.5025   0.0346\n",
       "ar.L3.D2.price   -0.2083    0.2457  -0.8478  0.3988  -0.6898   0.2732\n",
       "ar.L4.D2.price    0.4211    0.1616   2.6055  0.0108   0.1043   0.7379\n",
       "ar.L5.D2.price   -0.3073    0.1383  -2.2219  0.0288  -0.5784  -0.0362\n",
       "ma.L1.D2.price   -0.9177    0.2516  -3.6471  0.0004  -1.4109  -0.4246\n",
       "ma.L2.D2.price    0.0641    0.3018   0.2122  0.8324  -0.5275   0.6557\n",
       "-----------------------------------------------------------------------------\n",
       "                 Real           Imaginary          Modulus          Frequency\n",
       "-----------------------------------------------------------------------------\n",
       "AR.1           -1.4492            -0.0000           1.4492            -0.5000\n",
       "AR.2            0.9585            -0.6024           1.1321            -0.0893\n",
       "AR.3            0.9585             0.6024           1.1321             0.0893\n",
       "AR.4            0.4513            -1.2444           1.3237            -0.1946\n",
       "AR.5            0.4513             1.2444           1.3237             0.1946\n",
       "MA.1            1.1882             0.0000           1.1882             0.0000\n",
       "MA.2           13.1367             0.0000          13.1367             0.0000\n",
       "====================================================================\n",
       "\n",
       "\"\"\""
      ]
     },
     "execution_count": 14,
     "metadata": {},
     "output_type": "execute_result"
    }
   ],
   "source": [
    "arima_result.summary2()"
   ]
  },
  {
   "cell_type": "code",
   "execution_count": 15,
   "metadata": {},
   "outputs": [],
   "source": [
    "# Get forecast 6 steps ahead in future\n",
    "pred = arima_result.forecast(steps=6)"
   ]
  },
  {
   "cell_type": "code",
   "execution_count": 16,
   "metadata": {},
   "outputs": [],
   "source": [
    "time = pd.date_range('20190201', periods=6, freq='MS')"
   ]
  },
  {
   "cell_type": "code",
   "execution_count": 17,
   "metadata": {},
   "outputs": [],
   "source": [
    "pred_df = pd.DataFrame(np.round(pred[0],1), index = time, columns=['price'])"
   ]
  },
  {
   "cell_type": "code",
   "execution_count": 18,
   "metadata": {},
   "outputs": [],
   "source": [
    "output = pd.concat([data, pred_df], axis=0)"
   ]
  },
  {
   "cell_type": "code",
   "execution_count": 19,
   "metadata": {},
   "outputs": [],
   "source": [
    "output = output.reset_index()"
   ]
  },
  {
   "cell_type": "code",
   "execution_count": 20,
   "metadata": {},
   "outputs": [
    {
     "data": {
      "image/png": "[encoded data removed]",
      "text/plain": [
       "<Figure size 1440x720 with 1 Axes>"
      ]
     },
     "metadata": {
      "needs_background": "light"
     },
     "output_type": "display_data"
    }
   ],
   "source": [
    "x = output['index'].tail(18)\n",
    "y = output['price'].tail(18)\n",
    "\n",
    "plt.figure(figsize = (20, 10))\n",
    "plt.plot(x, y, linewidth = 3, marker = 'o', markerfacecolor='red', markersize=8)\n",
    "\n",
    "plt.title('Hoboken Rental Price Trend Chart', fontsize = 30)\n",
    "plt.ylabel('Average Rental Price ($/month)', fontsize = 18)\n",
    "# plt.ylim((2650,2775))\n",
    "plt.tick_params(labelsize = 12)\n",
    "plt.xticks(rotation = 45)\n",
    "for i, j in zip(x, y):\n",
    "    plt.text(i, j + 2, j, ha = 'center', va = 'bottom', fontsize = 10)\n",
    "    \n",
    "plt.legend()\n",
    "plt.savefig(\"../area_predict_pics/Hoboken.jpg\")\n",
    "plt.show()"
   ]
  },
  {
   "cell_type": "code",
   "execution_count": 21,
   "metadata": {},
   "outputs": [],
   "source": [
    "# m = df['date'].tail(18)\n",
    "# n = df['price'].tail(18)\n",
    "# plt.figure(figsize = (20, 10))\n",
    "# plt.plot(m, n, linewidth = 3, marker = 'o', markerfacecolor='red', markersize=8)\n",
    "# plt.title('Hoboken Rental Price Trend Chart', fontsize = 30)\n",
    "# plt.ylabel('Average Rental Price ($/month)', fontsize = 18)\n",
    "# plt.tick_params(labelsize = 12)\n",
    "# plt.xticks(rotation = 90)\n",
    "# for i, j in zip(m, n):\n",
    "#     plt.text(i, j + 2, j, ha = 'center', va = 'bottom', fontsize = 10)\n",
    "# plt.show()"
   ]
  }
 ],
 "metadata": {
  "kernelspec": {
   "display_name": "Python 3",
   "language": "python",
   "name": "python3"
  },
  "language_info": {
   "codemirror_mode": {
    "name": "ipython",
    "version": 3
   },
   "file_extension": ".py",
   "mimetype": "text/x-python",
   "name": "python",
   "nbconvert_exporter": "python",
   "pygments_lexer": "ipython3",
   "version": "3.7.2"
  }
 },
 "nbformat": 4,
 "nbformat_minor": 2
}
