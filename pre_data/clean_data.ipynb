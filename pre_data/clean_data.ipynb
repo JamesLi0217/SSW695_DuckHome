{
 "cells": [
  {
   "cell_type": "code",
   "execution_count": 1,
   "metadata": {},
   "outputs": [],
   "source": [
    "import pandas as pd\n",
    "import numpy as np"
   ]
  },
  {
   "cell_type": "code",
   "execution_count": 2,
   "metadata": {},
   "outputs": [],
   "source": [
    "df = pd.read_csv('raw_data.csv')"
   ]
  },
  {
   "cell_type": "code",
   "execution_count": 3,
   "metadata": {},
   "outputs": [
    {
     "data": {
      "text/html": [
       "<div>\n",
       "<style scoped>\n",
       "    .dataframe tbody tr th:only-of-type {\n",
       "        vertical-align: middle;\n",
       "    }\n",
       "\n",
       "    .dataframe tbody tr th {\n",
       "        vertical-align: top;\n",
       "    }\n",
       "\n",
       "    .dataframe thead th {\n",
       "        text-align: right;\n",
       "    }\n",
       "</style>\n",
       "<table border=\"1\" class=\"dataframe\">\n",
       "  <thead>\n",
       "    <tr style=\"text-align: right;\">\n",
       "      <th></th>\n",
       "      <th>bed</th>\n",
       "      <th>bath</th>\n",
       "      <th>square</th>\n",
       "      <th>city</th>\n",
       "      <th>year_built</th>\n",
       "      <th>home_type</th>\n",
       "      <th>price</th>\n",
       "    </tr>\n",
       "  </thead>\n",
       "  <tbody>\n",
       "    <tr>\n",
       "      <th>1408</th>\n",
       "      <td>4.0</td>\n",
       "      <td>2.0</td>\n",
       "      <td>600.0</td>\n",
       "      <td>Union City</td>\n",
       "      <td>NaN</td>\n",
       "      <td>NaN</td>\n",
       "      <td>4000.0</td>\n",
       "    </tr>\n",
       "    <tr>\n",
       "      <th>937</th>\n",
       "      <td>2.0</td>\n",
       "      <td>2.0</td>\n",
       "      <td>958.0</td>\n",
       "      <td>Jersey City</td>\n",
       "      <td>1.0</td>\n",
       "      <td>APARTMENT</td>\n",
       "      <td>2795.0</td>\n",
       "    </tr>\n",
       "    <tr>\n",
       "      <th>874</th>\n",
       "      <td>2.0</td>\n",
       "      <td>1.0</td>\n",
       "      <td>1006.0</td>\n",
       "      <td>Jersey City</td>\n",
       "      <td>1.0</td>\n",
       "      <td>APARTMENT</td>\n",
       "      <td>1450.0</td>\n",
       "    </tr>\n",
       "    <tr>\n",
       "      <th>902</th>\n",
       "      <td>1.0</td>\n",
       "      <td>1.0</td>\n",
       "      <td>733.0</td>\n",
       "      <td>Jersey City</td>\n",
       "      <td>NaN</td>\n",
       "      <td>NaN</td>\n",
       "      <td>1195.0</td>\n",
       "    </tr>\n",
       "    <tr>\n",
       "      <th>106</th>\n",
       "      <td>1.0</td>\n",
       "      <td>1.0</td>\n",
       "      <td>860.0</td>\n",
       "      <td>Hoboken</td>\n",
       "      <td>1901.0</td>\n",
       "      <td>APARTMENT</td>\n",
       "      <td>2750.0</td>\n",
       "    </tr>\n",
       "    <tr>\n",
       "      <th>843</th>\n",
       "      <td>2.0</td>\n",
       "      <td>1.5</td>\n",
       "      <td>1006.0</td>\n",
       "      <td>Jersey City</td>\n",
       "      <td>NaN</td>\n",
       "      <td>NaN</td>\n",
       "      <td>1295.0</td>\n",
       "    </tr>\n",
       "    <tr>\n",
       "      <th>701</th>\n",
       "      <td>3.0</td>\n",
       "      <td>1.5</td>\n",
       "      <td>1423.0</td>\n",
       "      <td>Jersey City</td>\n",
       "      <td>NaN</td>\n",
       "      <td>NaN</td>\n",
       "      <td>5330.0</td>\n",
       "    </tr>\n",
       "    <tr>\n",
       "      <th>328</th>\n",
       "      <td>1.0</td>\n",
       "      <td>1.0</td>\n",
       "      <td>625.0</td>\n",
       "      <td>Hoboken</td>\n",
       "      <td>1901.0</td>\n",
       "      <td>APARTMENT</td>\n",
       "      <td>2700.0</td>\n",
       "    </tr>\n",
       "    <tr>\n",
       "      <th>506</th>\n",
       "      <td>3.0</td>\n",
       "      <td>1.0</td>\n",
       "      <td>1600.0</td>\n",
       "      <td>Hoboken</td>\n",
       "      <td>1.0</td>\n",
       "      <td>APARTMENT</td>\n",
       "      <td>3200.0</td>\n",
       "    </tr>\n",
       "    <tr>\n",
       "      <th>1200</th>\n",
       "      <td>1.0</td>\n",
       "      <td>1.0</td>\n",
       "      <td>733.0</td>\n",
       "      <td>Union City</td>\n",
       "      <td>NaN</td>\n",
       "      <td>NaN</td>\n",
       "      <td>1000.0</td>\n",
       "    </tr>\n",
       "  </tbody>\n",
       "</table>\n",
       "</div>"
      ],
      "text/plain": [
       "      bed  bath  square         city  year_built  home_type   price\n",
       "1408  4.0   2.0   600.0   Union City         NaN        NaN  4000.0\n",
       "937   2.0   2.0   958.0  Jersey City         1.0  APARTMENT  2795.0\n",
       "874   2.0   1.0  1006.0  Jersey City         1.0  APARTMENT  1450.0\n",
       "902   1.0   1.0   733.0  Jersey City         NaN        NaN  1195.0\n",
       "106   1.0   1.0   860.0      Hoboken      1901.0  APARTMENT  2750.0\n",
       "843   2.0   1.5  1006.0  Jersey City         NaN        NaN  1295.0\n",
       "701   3.0   1.5  1423.0  Jersey City         NaN        NaN  5330.0\n",
       "328   1.0   1.0   625.0      Hoboken      1901.0  APARTMENT  2700.0\n",
       "506   3.0   1.0  1600.0      Hoboken         1.0  APARTMENT  3200.0\n",
       "1200  1.0   1.0   733.0   Union City         NaN        NaN  1000.0"
      ]
     },
     "execution_count": 3,
     "metadata": {},
     "output_type": "execute_result"
    }
   ],
   "source": [
    "df.sample(10)"
   ]
  },
  {
   "cell_type": "code",
   "execution_count": 4,
   "metadata": {},
   "outputs": [
    {
     "data": {
      "text/html": [
       "<div>\n",
       "<style scoped>\n",
       "    .dataframe tbody tr th:only-of-type {\n",
       "        vertical-align: middle;\n",
       "    }\n",
       "\n",
       "    .dataframe tbody tr th {\n",
       "        vertical-align: top;\n",
       "    }\n",
       "\n",
       "    .dataframe thead th {\n",
       "        text-align: right;\n",
       "    }\n",
       "</style>\n",
       "<table border=\"1\" class=\"dataframe\">\n",
       "  <thead>\n",
       "    <tr style=\"text-align: right;\">\n",
       "      <th></th>\n",
       "      <th>bed</th>\n",
       "      <th>bath</th>\n",
       "      <th>square</th>\n",
       "      <th>year_built</th>\n",
       "      <th>price</th>\n",
       "    </tr>\n",
       "  </thead>\n",
       "  <tbody>\n",
       "    <tr>\n",
       "      <th>count</th>\n",
       "      <td>1417.000000</td>\n",
       "      <td>1417.000000</td>\n",
       "      <td>1417.000000</td>\n",
       "      <td>632.000000</td>\n",
       "      <td>1417.000000</td>\n",
       "    </tr>\n",
       "    <tr>\n",
       "      <th>mean</th>\n",
       "      <td>1.713479</td>\n",
       "      <td>1.299224</td>\n",
       "      <td>974.873677</td>\n",
       "      <td>449.917722</td>\n",
       "      <td>2543.437544</td>\n",
       "    </tr>\n",
       "    <tr>\n",
       "      <th>std</th>\n",
       "      <td>0.948412</td>\n",
       "      <td>0.459619</td>\n",
       "      <td>393.962247</td>\n",
       "      <td>820.047389</td>\n",
       "      <td>1122.110909</td>\n",
       "    </tr>\n",
       "    <tr>\n",
       "      <th>min</th>\n",
       "      <td>0.000000</td>\n",
       "      <td>0.500000</td>\n",
       "      <td>180.000000</td>\n",
       "      <td>1.000000</td>\n",
       "      <td>175.000000</td>\n",
       "    </tr>\n",
       "    <tr>\n",
       "      <th>25%</th>\n",
       "      <td>1.000000</td>\n",
       "      <td>1.000000</td>\n",
       "      <td>733.000000</td>\n",
       "      <td>1.000000</td>\n",
       "      <td>1795.000000</td>\n",
       "    </tr>\n",
       "    <tr>\n",
       "      <th>50%</th>\n",
       "      <td>2.000000</td>\n",
       "      <td>1.000000</td>\n",
       "      <td>953.000000</td>\n",
       "      <td>1.000000</td>\n",
       "      <td>2300.000000</td>\n",
       "    </tr>\n",
       "    <tr>\n",
       "      <th>75%</th>\n",
       "      <td>2.000000</td>\n",
       "      <td>1.500000</td>\n",
       "      <td>1060.000000</td>\n",
       "      <td>1.000000</td>\n",
       "      <td>2950.000000</td>\n",
       "    </tr>\n",
       "    <tr>\n",
       "      <th>max</th>\n",
       "      <td>5.000000</td>\n",
       "      <td>4.000000</td>\n",
       "      <td>5000.000000</td>\n",
       "      <td>2017.000000</td>\n",
       "      <td>13000.000000</td>\n",
       "    </tr>\n",
       "  </tbody>\n",
       "</table>\n",
       "</div>"
      ],
      "text/plain": [
       "               bed         bath       square   year_built         price\n",
       "count  1417.000000  1417.000000  1417.000000   632.000000   1417.000000\n",
       "mean      1.713479     1.299224   974.873677   449.917722   2543.437544\n",
       "std       0.948412     0.459619   393.962247   820.047389   1122.110909\n",
       "min       0.000000     0.500000   180.000000     1.000000    175.000000\n",
       "25%       1.000000     1.000000   733.000000     1.000000   1795.000000\n",
       "50%       2.000000     1.000000   953.000000     1.000000   2300.000000\n",
       "75%       2.000000     1.500000  1060.000000     1.000000   2950.000000\n",
       "max       5.000000     4.000000  5000.000000  2017.000000  13000.000000"
      ]
     },
     "execution_count": 4,
     "metadata": {},
     "output_type": "execute_result"
    }
   ],
   "source": [
    "df.describe()"
   ]
  },
  {
   "cell_type": "code",
   "execution_count": 5,
   "metadata": {},
   "outputs": [
    {
     "name": "stdout",
     "output_type": "stream",
     "text": [
      "<class 'pandas.core.frame.DataFrame'>\n",
      "RangeIndex: 1417 entries, 0 to 1416\n",
      "Data columns (total 7 columns):\n",
      "bed           1417 non-null float64\n",
      "bath          1417 non-null float64\n",
      "square        1417 non-null float64\n",
      "city          1417 non-null object\n",
      "year_built    632 non-null float64\n",
      "home_type     632 non-null object\n",
      "price         1417 non-null float64\n",
      "dtypes: float64(5), object(2)\n",
      "memory usage: 77.6+ KB\n"
     ]
    }
   ],
   "source": [
    "df.info()"
   ]
  },
  {
   "cell_type": "code",
   "execution_count": 6,
   "metadata": {},
   "outputs": [
    {
     "data": {
      "text/plain": [
       "2.0    536\n",
       "1.0    485\n",
       "3.0    233\n",
       "0.0    121\n",
       "4.0     38\n",
       "5.0      4\n",
       "Name: bed, dtype: int64"
      ]
     },
     "execution_count": 6,
     "metadata": {},
     "output_type": "execute_result"
    }
   ],
   "source": [
    "df['bed'].value_counts()"
   ]
  },
  {
   "cell_type": "code",
   "execution_count": 7,
   "metadata": {},
   "outputs": [
    {
     "data": {
      "text/plain": [
       "1.0    882\n",
       "1.5    280\n",
       "2.0    227\n",
       "3.0     15\n",
       "2.5      5\n",
       "4.0      5\n",
       "3.5      2\n",
       "0.5      1\n",
       "Name: bath, dtype: int64"
      ]
     },
     "execution_count": 7,
     "metadata": {},
     "output_type": "execute_result"
    }
   ],
   "source": [
    "df['bath'].value_counts()"
   ]
  },
  {
   "cell_type": "code",
   "execution_count": 8,
   "metadata": {},
   "outputs": [],
   "source": [
    "df['bed'] = df['bed'].astype('int')"
   ]
  },
  {
   "cell_type": "code",
   "execution_count": 9,
   "metadata": {},
   "outputs": [],
   "source": [
    "df['square'] = df['square'].astype('int')"
   ]
  },
  {
   "cell_type": "code",
   "execution_count": 10,
   "metadata": {},
   "outputs": [],
   "source": [
    "df['price'] = df['price'].astype('int')"
   ]
  },
  {
   "cell_type": "code",
   "execution_count": 11,
   "metadata": {},
   "outputs": [],
   "source": [
    "df['year_built'] = df['year_built'].fillna(0)"
   ]
  },
  {
   "cell_type": "code",
   "execution_count": 12,
   "metadata": {},
   "outputs": [],
   "source": [
    "df['year_built'] = df['year_built'].astype('int')"
   ]
  },
  {
   "cell_type": "code",
   "execution_count": 13,
   "metadata": {},
   "outputs": [],
   "source": [
    "df['home_type'] = df['home_type'].fillna('None')"
   ]
  },
  {
   "cell_type": "code",
   "execution_count": 14,
   "metadata": {},
   "outputs": [
    {
     "name": "stdout",
     "output_type": "stream",
     "text": [
      "<class 'pandas.core.frame.DataFrame'>\n",
      "RangeIndex: 1417 entries, 0 to 1416\n",
      "Data columns (total 7 columns):\n",
      "bed           1417 non-null int64\n",
      "bath          1417 non-null float64\n",
      "square        1417 non-null int64\n",
      "city          1417 non-null object\n",
      "year_built    1417 non-null int64\n",
      "home_type     1417 non-null object\n",
      "price         1417 non-null int64\n",
      "dtypes: float64(1), int64(4), object(2)\n",
      "memory usage: 77.6+ KB\n"
     ]
    }
   ],
   "source": [
    "df.info()"
   ]
  },
  {
   "cell_type": "code",
   "execution_count": 15,
   "metadata": {},
   "outputs": [
    {
     "data": {
      "text/html": [
       "<div>\n",
       "<style scoped>\n",
       "    .dataframe tbody tr th:only-of-type {\n",
       "        vertical-align: middle;\n",
       "    }\n",
       "\n",
       "    .dataframe tbody tr th {\n",
       "        vertical-align: top;\n",
       "    }\n",
       "\n",
       "    .dataframe thead th {\n",
       "        text-align: right;\n",
       "    }\n",
       "</style>\n",
       "<table border=\"1\" class=\"dataframe\">\n",
       "  <thead>\n",
       "    <tr style=\"text-align: right;\">\n",
       "      <th></th>\n",
       "      <th>bed</th>\n",
       "      <th>bath</th>\n",
       "      <th>square</th>\n",
       "      <th>year_built</th>\n",
       "      <th>price</th>\n",
       "    </tr>\n",
       "  </thead>\n",
       "  <tbody>\n",
       "    <tr>\n",
       "      <th>count</th>\n",
       "      <td>1417.000000</td>\n",
       "      <td>1417.000000</td>\n",
       "      <td>1417.000000</td>\n",
       "      <td>1417.000000</td>\n",
       "      <td>1417.000000</td>\n",
       "    </tr>\n",
       "    <tr>\n",
       "      <th>mean</th>\n",
       "      <td>1.713479</td>\n",
       "      <td>1.299224</td>\n",
       "      <td>974.873677</td>\n",
       "      <td>200.669019</td>\n",
       "      <td>2543.437544</td>\n",
       "    </tr>\n",
       "    <tr>\n",
       "      <th>std</th>\n",
       "      <td>0.948412</td>\n",
       "      <td>0.459619</td>\n",
       "      <td>393.962247</td>\n",
       "      <td>591.373253</td>\n",
       "      <td>1122.110909</td>\n",
       "    </tr>\n",
       "    <tr>\n",
       "      <th>min</th>\n",
       "      <td>0.000000</td>\n",
       "      <td>0.500000</td>\n",
       "      <td>180.000000</td>\n",
       "      <td>0.000000</td>\n",
       "      <td>175.000000</td>\n",
       "    </tr>\n",
       "    <tr>\n",
       "      <th>25%</th>\n",
       "      <td>1.000000</td>\n",
       "      <td>1.000000</td>\n",
       "      <td>733.000000</td>\n",
       "      <td>0.000000</td>\n",
       "      <td>1795.000000</td>\n",
       "    </tr>\n",
       "    <tr>\n",
       "      <th>50%</th>\n",
       "      <td>2.000000</td>\n",
       "      <td>1.000000</td>\n",
       "      <td>953.000000</td>\n",
       "      <td>0.000000</td>\n",
       "      <td>2300.000000</td>\n",
       "    </tr>\n",
       "    <tr>\n",
       "      <th>75%</th>\n",
       "      <td>2.000000</td>\n",
       "      <td>1.500000</td>\n",
       "      <td>1060.000000</td>\n",
       "      <td>1.000000</td>\n",
       "      <td>2950.000000</td>\n",
       "    </tr>\n",
       "    <tr>\n",
       "      <th>max</th>\n",
       "      <td>5.000000</td>\n",
       "      <td>4.000000</td>\n",
       "      <td>5000.000000</td>\n",
       "      <td>2017.000000</td>\n",
       "      <td>13000.000000</td>\n",
       "    </tr>\n",
       "  </tbody>\n",
       "</table>\n",
       "</div>"
      ],
      "text/plain": [
       "               bed         bath       square   year_built         price\n",
       "count  1417.000000  1417.000000  1417.000000  1417.000000   1417.000000\n",
       "mean      1.713479     1.299224   974.873677   200.669019   2543.437544\n",
       "std       0.948412     0.459619   393.962247   591.373253   1122.110909\n",
       "min       0.000000     0.500000   180.000000     0.000000    175.000000\n",
       "25%       1.000000     1.000000   733.000000     0.000000   1795.000000\n",
       "50%       2.000000     1.000000   953.000000     0.000000   2300.000000\n",
       "75%       2.000000     1.500000  1060.000000     1.000000   2950.000000\n",
       "max       5.000000     4.000000  5000.000000  2017.000000  13000.000000"
      ]
     },
     "execution_count": 15,
     "metadata": {},
     "output_type": "execute_result"
    }
   ],
   "source": [
    "df.describe()"
   ]
  },
  {
   "cell_type": "code",
   "execution_count": 16,
   "metadata": {},
   "outputs": [
    {
     "data": {
      "text/html": [
       "<div>\n",
       "<style scoped>\n",
       "    .dataframe tbody tr th:only-of-type {\n",
       "        vertical-align: middle;\n",
       "    }\n",
       "\n",
       "    .dataframe tbody tr th {\n",
       "        vertical-align: top;\n",
       "    }\n",
       "\n",
       "    .dataframe thead th {\n",
       "        text-align: right;\n",
       "    }\n",
       "</style>\n",
       "<table border=\"1\" class=\"dataframe\">\n",
       "  <thead>\n",
       "    <tr style=\"text-align: right;\">\n",
       "      <th></th>\n",
       "      <th>bed</th>\n",
       "      <th>bath</th>\n",
       "      <th>square</th>\n",
       "      <th>city</th>\n",
       "      <th>year_built</th>\n",
       "      <th>home_type</th>\n",
       "      <th>price</th>\n",
       "    </tr>\n",
       "  </thead>\n",
       "  <tbody>\n",
       "    <tr>\n",
       "      <th>1371</th>\n",
       "      <td>1</td>\n",
       "      <td>1.0</td>\n",
       "      <td>733</td>\n",
       "      <td>Union City</td>\n",
       "      <td>0</td>\n",
       "      <td>None</td>\n",
       "      <td>1350</td>\n",
       "    </tr>\n",
       "    <tr>\n",
       "      <th>605</th>\n",
       "      <td>1</td>\n",
       "      <td>1.0</td>\n",
       "      <td>733</td>\n",
       "      <td>Jersey City</td>\n",
       "      <td>0</td>\n",
       "      <td>None</td>\n",
       "      <td>1295</td>\n",
       "    </tr>\n",
       "    <tr>\n",
       "      <th>348</th>\n",
       "      <td>3</td>\n",
       "      <td>2.0</td>\n",
       "      <td>1150</td>\n",
       "      <td>Hoboken</td>\n",
       "      <td>1932</td>\n",
       "      <td>APARTMENT</td>\n",
       "      <td>3990</td>\n",
       "    </tr>\n",
       "    <tr>\n",
       "      <th>296</th>\n",
       "      <td>1</td>\n",
       "      <td>1.0</td>\n",
       "      <td>600</td>\n",
       "      <td>Hoboken</td>\n",
       "      <td>1</td>\n",
       "      <td>APARTMENT</td>\n",
       "      <td>2150</td>\n",
       "    </tr>\n",
       "    <tr>\n",
       "      <th>501</th>\n",
       "      <td>2</td>\n",
       "      <td>1.0</td>\n",
       "      <td>1006</td>\n",
       "      <td>Hoboken</td>\n",
       "      <td>1</td>\n",
       "      <td>APARTMENT</td>\n",
       "      <td>2400</td>\n",
       "    </tr>\n",
       "    <tr>\n",
       "      <th>428</th>\n",
       "      <td>3</td>\n",
       "      <td>1.0</td>\n",
       "      <td>600</td>\n",
       "      <td>Hoboken</td>\n",
       "      <td>1</td>\n",
       "      <td>APARTMENT</td>\n",
       "      <td>2790</td>\n",
       "    </tr>\n",
       "    <tr>\n",
       "      <th>73</th>\n",
       "      <td>1</td>\n",
       "      <td>1.0</td>\n",
       "      <td>733</td>\n",
       "      <td>Hoboken</td>\n",
       "      <td>0</td>\n",
       "      <td>None</td>\n",
       "      <td>3000</td>\n",
       "    </tr>\n",
       "    <tr>\n",
       "      <th>7</th>\n",
       "      <td>2</td>\n",
       "      <td>1.0</td>\n",
       "      <td>1006</td>\n",
       "      <td>Hoboken</td>\n",
       "      <td>0</td>\n",
       "      <td>None</td>\n",
       "      <td>1850</td>\n",
       "    </tr>\n",
       "    <tr>\n",
       "      <th>361</th>\n",
       "      <td>1</td>\n",
       "      <td>1.0</td>\n",
       "      <td>600</td>\n",
       "      <td>Hoboken</td>\n",
       "      <td>1</td>\n",
       "      <td>MULTI_FAMILY</td>\n",
       "      <td>2600</td>\n",
       "    </tr>\n",
       "    <tr>\n",
       "      <th>536</th>\n",
       "      <td>3</td>\n",
       "      <td>2.0</td>\n",
       "      <td>1423</td>\n",
       "      <td>Hoboken</td>\n",
       "      <td>1</td>\n",
       "      <td>APARTMENT</td>\n",
       "      <td>4300</td>\n",
       "    </tr>\n",
       "  </tbody>\n",
       "</table>\n",
       "</div>"
      ],
      "text/plain": [
       "      bed  bath  square         city  year_built     home_type  price\n",
       "1371    1   1.0     733   Union City           0          None   1350\n",
       "605     1   1.0     733  Jersey City           0          None   1295\n",
       "348     3   2.0    1150      Hoboken        1932     APARTMENT   3990\n",
       "296     1   1.0     600      Hoboken           1     APARTMENT   2150\n",
       "501     2   1.0    1006      Hoboken           1     APARTMENT   2400\n",
       "428     3   1.0     600      Hoboken           1     APARTMENT   2790\n",
       "73      1   1.0     733      Hoboken           0          None   3000\n",
       "7       2   1.0    1006      Hoboken           0          None   1850\n",
       "361     1   1.0     600      Hoboken           1  MULTI_FAMILY   2600\n",
       "536     3   2.0    1423      Hoboken           1     APARTMENT   4300"
      ]
     },
     "execution_count": 16,
     "metadata": {},
     "output_type": "execute_result"
    }
   ],
   "source": [
    "df.sample(10)"
   ]
  },
  {
   "cell_type": "code",
   "execution_count": 17,
   "metadata": {},
   "outputs": [
    {
     "data": {
      "text/plain": [
       "Jersey City      638\n",
       "Hoboken          547\n",
       "Union City       220\n",
       "HOBOKEN            5\n",
       "North Bergen       3\n",
       "Jersey city        2\n",
       "West New York      1\n",
       "UNION CITY         1\n",
       "Name: city, dtype: int64"
      ]
     },
     "execution_count": 17,
     "metadata": {},
     "output_type": "execute_result"
    }
   ],
   "source": [
    "df['city'].value_counts()"
   ]
  },
  {
   "cell_type": "code",
   "execution_count": 18,
   "metadata": {},
   "outputs": [],
   "source": [
    "df.loc[df['city'] == 'HOBOKEN', 'city'] = 'Hoboken'\n",
    "df.loc[df['city'] == 'Jersey city', 'city'] = 'Jersey City'\n",
    "df.loc[df['city'] == 'UNION CITY', 'city'] = 'Union City'"
   ]
  },
  {
   "cell_type": "code",
   "execution_count": 19,
   "metadata": {},
   "outputs": [],
   "source": [
    "df = df[df.city != 'North Bergen']\n",
    "df = df[df.city != 'West New York']"
   ]
  },
  {
   "cell_type": "code",
   "execution_count": 20,
   "metadata": {},
   "outputs": [
    {
     "data": {
      "text/plain": [
       "Jersey City    640\n",
       "Hoboken        552\n",
       "Union City     221\n",
       "Name: city, dtype: int64"
      ]
     },
     "execution_count": 20,
     "metadata": {},
     "output_type": "execute_result"
    }
   ],
   "source": [
    "df['city'].value_counts()"
   ]
  },
  {
   "cell_type": "code",
   "execution_count": 21,
   "metadata": {},
   "outputs": [
    {
     "data": {
      "text/plain": [
       "0       785\n",
       "1       484\n",
       "1901     35\n",
       "1900     10\n",
       "1920      8\n",
       "1910      8\n",
       "2005      5\n",
       "2000      5\n",
       "2006      5\n",
       "2008      5\n",
       "2015      5\n",
       "2002      3\n",
       "2010      3\n",
       "1990      3\n",
       "1921      3\n",
       "1897      2\n",
       "1930      2\n",
       "1892      2\n",
       "1890      2\n",
       "1889      2\n",
       "1925      2\n",
       "1950      2\n",
       "2014      2\n",
       "2013      2\n",
       "2009      2\n",
       "2007      2\n",
       "2004      2\n",
       "2001      2\n",
       "1967      1\n",
       "1957      1\n",
       "1800      1\n",
       "1880      1\n",
       "2011      1\n",
       "1898      1\n",
       "1905      1\n",
       "1908      1\n",
       "1999      1\n",
       "1916      1\n",
       "1917      1\n",
       "1987      1\n",
       "1985      1\n",
       "1924      1\n",
       "1973      1\n",
       "1928      1\n",
       "1970      1\n",
       "1932      1\n",
       "2016      1\n",
       "2017      1\n",
       "Name: year_built, dtype: int64"
      ]
     },
     "execution_count": 21,
     "metadata": {},
     "output_type": "execute_result"
    }
   ],
   "source": [
    "df['year_built'].value_counts()"
   ]
  },
  {
   "cell_type": "code",
   "execution_count": 22,
   "metadata": {},
   "outputs": [
    {
     "data": {
      "text/plain": [
       "None             785\n",
       "APARTMENT        504\n",
       "MULTI_FAMILY      77\n",
       "CONDO             32\n",
       "TOWNHOUSE          9\n",
       "SINGLE_FAMILY      6\n",
       "Name: home_type, dtype: int64"
      ]
     },
     "execution_count": 22,
     "metadata": {},
     "output_type": "execute_result"
    }
   ],
   "source": [
    "df['home_type'].value_counts()"
   ]
  },
  {
   "cell_type": "code",
   "execution_count": 23,
   "metadata": {},
   "outputs": [],
   "source": [
    "df.to_csv('clean_data.csv', index=False)"
   ]
  }
 ],
 "metadata": {
  "kernelspec": {
   "display_name": "Python 3",
   "language": "python",
   "name": "python3"
  },
  "language_info": {
   "codemirror_mode": {
    "name": "ipython",
    "version": 3
   },
   "file_extension": ".py",
   "mimetype": "text/x-python",
   "name": "python",
   "nbconvert_exporter": "python",
   "pygments_lexer": "ipython3",
   "version": "3.7.2"
  }
 },
 "nbformat": 4,
 "nbformat_minor": 2
}
