{
 "cells": [
  {
   "cell_type": "code",
   "execution_count": 1,
   "metadata": {},
   "outputs": [],
   "source": [
    "import pandas as pd\n",
    "import numpy as np"
   ]
  },
  {
   "cell_type": "code",
   "execution_count": 2,
   "metadata": {},
   "outputs": [],
   "source": [
    "df = pd.read_csv('raw_data.csv')"
   ]
  },
  {
   "cell_type": "code",
   "execution_count": 3,
   "metadata": {},
   "outputs": [
    {
     "data": {
      "text/html": [
       "<div>\n",
       "<style scoped>\n",
       "    .dataframe tbody tr th:only-of-type {\n",
       "        vertical-align: middle;\n",
       "    }\n",
       "\n",
       "    .dataframe tbody tr th {\n",
       "        vertical-align: top;\n",
       "    }\n",
       "\n",
       "    .dataframe thead th {\n",
       "        text-align: right;\n",
       "    }\n",
       "</style>\n",
       "<table border=\"1\" class=\"dataframe\">\n",
       "  <thead>\n",
       "    <tr style=\"text-align: right;\">\n",
       "      <th></th>\n",
       "      <th>bed</th>\n",
       "      <th>bath</th>\n",
       "      <th>square</th>\n",
       "      <th>city</th>\n",
       "      <th>year_built</th>\n",
       "      <th>home_type</th>\n",
       "      <th>price</th>\n",
       "    </tr>\n",
       "  </thead>\n",
       "  <tbody>\n",
       "    <tr>\n",
       "      <th>451</th>\n",
       "      <td>2.0</td>\n",
       "      <td>1.0</td>\n",
       "      <td>815.0</td>\n",
       "      <td>Hoboken</td>\n",
       "      <td>NaN</td>\n",
       "      <td>NaN</td>\n",
       "      <td>2600.0</td>\n",
       "    </tr>\n",
       "    <tr>\n",
       "      <th>401</th>\n",
       "      <td>2.0</td>\n",
       "      <td>1.0</td>\n",
       "      <td>1006.0</td>\n",
       "      <td>Hoboken</td>\n",
       "      <td>1.0</td>\n",
       "      <td>APARTMENT</td>\n",
       "      <td>2650.0</td>\n",
       "    </tr>\n",
       "    <tr>\n",
       "      <th>471</th>\n",
       "      <td>2.0</td>\n",
       "      <td>1.0</td>\n",
       "      <td>1006.0</td>\n",
       "      <td>Hoboken</td>\n",
       "      <td>1.0</td>\n",
       "      <td>APARTMENT</td>\n",
       "      <td>2150.0</td>\n",
       "    </tr>\n",
       "    <tr>\n",
       "      <th>1156</th>\n",
       "      <td>2.0</td>\n",
       "      <td>1.0</td>\n",
       "      <td>650.0</td>\n",
       "      <td>Jersey City</td>\n",
       "      <td>1925.0</td>\n",
       "      <td>CONDO</td>\n",
       "      <td>2500.0</td>\n",
       "    </tr>\n",
       "    <tr>\n",
       "      <th>1329</th>\n",
       "      <td>2.0</td>\n",
       "      <td>1.0</td>\n",
       "      <td>750.0</td>\n",
       "      <td>Union City</td>\n",
       "      <td>1950.0</td>\n",
       "      <td>MULTI_FAMILY</td>\n",
       "      <td>1475.0</td>\n",
       "    </tr>\n",
       "    <tr>\n",
       "      <th>901</th>\n",
       "      <td>2.0</td>\n",
       "      <td>1.5</td>\n",
       "      <td>1006.0</td>\n",
       "      <td>Jersey City</td>\n",
       "      <td>NaN</td>\n",
       "      <td>NaN</td>\n",
       "      <td>3153.0</td>\n",
       "    </tr>\n",
       "    <tr>\n",
       "      <th>70</th>\n",
       "      <td>2.0</td>\n",
       "      <td>1.5</td>\n",
       "      <td>1006.0</td>\n",
       "      <td>Hoboken</td>\n",
       "      <td>NaN</td>\n",
       "      <td>NaN</td>\n",
       "      <td>2850.0</td>\n",
       "    </tr>\n",
       "    <tr>\n",
       "      <th>508</th>\n",
       "      <td>2.0</td>\n",
       "      <td>2.0</td>\n",
       "      <td>1200.0</td>\n",
       "      <td>Hoboken</td>\n",
       "      <td>1.0</td>\n",
       "      <td>APARTMENT</td>\n",
       "      <td>2900.0</td>\n",
       "    </tr>\n",
       "    <tr>\n",
       "      <th>1177</th>\n",
       "      <td>2.0</td>\n",
       "      <td>1.5</td>\n",
       "      <td>1006.0</td>\n",
       "      <td>Jersey City</td>\n",
       "      <td>NaN</td>\n",
       "      <td>NaN</td>\n",
       "      <td>1985.0</td>\n",
       "    </tr>\n",
       "    <tr>\n",
       "      <th>1104</th>\n",
       "      <td>2.0</td>\n",
       "      <td>1.5</td>\n",
       "      <td>1006.0</td>\n",
       "      <td>Jersey City</td>\n",
       "      <td>NaN</td>\n",
       "      <td>NaN</td>\n",
       "      <td>1995.0</td>\n",
       "    </tr>\n",
       "  </tbody>\n",
       "</table>\n",
       "</div>"
      ],
      "text/plain": [
       "      bed  bath  square         city  year_built     home_type   price\n",
       "451   2.0   1.0   815.0      Hoboken         NaN           NaN  2600.0\n",
       "401   2.0   1.0  1006.0      Hoboken         1.0     APARTMENT  2650.0\n",
       "471   2.0   1.0  1006.0      Hoboken         1.0     APARTMENT  2150.0\n",
       "1156  2.0   1.0   650.0  Jersey City      1925.0         CONDO  2500.0\n",
       "1329  2.0   1.0   750.0   Union City      1950.0  MULTI_FAMILY  1475.0\n",
       "901   2.0   1.5  1006.0  Jersey City         NaN           NaN  3153.0\n",
       "70    2.0   1.5  1006.0      Hoboken         NaN           NaN  2850.0\n",
       "508   2.0   2.0  1200.0      Hoboken         1.0     APARTMENT  2900.0\n",
       "1177  2.0   1.5  1006.0  Jersey City         NaN           NaN  1985.0\n",
       "1104  2.0   1.5  1006.0  Jersey City         NaN           NaN  1995.0"
      ]
     },
     "execution_count": 3,
     "metadata": {},
     "output_type": "execute_result"
    }
   ],
   "source": [
    "df.sample(10)"
   ]
  },
  {
   "cell_type": "code",
   "execution_count": 4,
   "metadata": {},
   "outputs": [
    {
     "data": {
      "text/html": [
       "<div>\n",
       "<style scoped>\n",
       "    .dataframe tbody tr th:only-of-type {\n",
       "        vertical-align: middle;\n",
       "    }\n",
       "\n",
       "    .dataframe tbody tr th {\n",
       "        vertical-align: top;\n",
       "    }\n",
       "\n",
       "    .dataframe thead th {\n",
       "        text-align: right;\n",
       "    }\n",
       "</style>\n",
       "<table border=\"1\" class=\"dataframe\">\n",
       "  <thead>\n",
       "    <tr style=\"text-align: right;\">\n",
       "      <th></th>\n",
       "      <th>bed</th>\n",
       "      <th>bath</th>\n",
       "      <th>square</th>\n",
       "      <th>year_built</th>\n",
       "      <th>price</th>\n",
       "    </tr>\n",
       "  </thead>\n",
       "  <tbody>\n",
       "    <tr>\n",
       "      <th>count</th>\n",
       "      <td>1417.000000</td>\n",
       "      <td>1417.000000</td>\n",
       "      <td>1417.000000</td>\n",
       "      <td>632.000000</td>\n",
       "      <td>1417.000000</td>\n",
       "    </tr>\n",
       "    <tr>\n",
       "      <th>mean</th>\n",
       "      <td>1.713479</td>\n",
       "      <td>1.299224</td>\n",
       "      <td>974.873677</td>\n",
       "      <td>449.917722</td>\n",
       "      <td>2543.437544</td>\n",
       "    </tr>\n",
       "    <tr>\n",
       "      <th>std</th>\n",
       "      <td>0.948412</td>\n",
       "      <td>0.459619</td>\n",
       "      <td>393.962247</td>\n",
       "      <td>820.047389</td>\n",
       "      <td>1122.110909</td>\n",
       "    </tr>\n",
       "    <tr>\n",
       "      <th>min</th>\n",
       "      <td>0.000000</td>\n",
       "      <td>0.500000</td>\n",
       "      <td>180.000000</td>\n",
       "      <td>1.000000</td>\n",
       "      <td>175.000000</td>\n",
       "    </tr>\n",
       "    <tr>\n",
       "      <th>25%</th>\n",
       "      <td>1.000000</td>\n",
       "      <td>1.000000</td>\n",
       "      <td>733.000000</td>\n",
       "      <td>1.000000</td>\n",
       "      <td>1795.000000</td>\n",
       "    </tr>\n",
       "    <tr>\n",
       "      <th>50%</th>\n",
       "      <td>2.000000</td>\n",
       "      <td>1.000000</td>\n",
       "      <td>953.000000</td>\n",
       "      <td>1.000000</td>\n",
       "      <td>2300.000000</td>\n",
       "    </tr>\n",
       "    <tr>\n",
       "      <th>75%</th>\n",
       "      <td>2.000000</td>\n",
       "      <td>1.500000</td>\n",
       "      <td>1060.000000</td>\n",
       "      <td>1.000000</td>\n",
       "      <td>2950.000000</td>\n",
       "    </tr>\n",
       "    <tr>\n",
       "      <th>max</th>\n",
       "      <td>5.000000</td>\n",
       "      <td>4.000000</td>\n",
       "      <td>5000.000000</td>\n",
       "      <td>2017.000000</td>\n",
       "      <td>13000.000000</td>\n",
       "    </tr>\n",
       "  </tbody>\n",
       "</table>\n",
       "</div>"
      ],
      "text/plain": [
       "               bed         bath       square   year_built         price\n",
       "count  1417.000000  1417.000000  1417.000000   632.000000   1417.000000\n",
       "mean      1.713479     1.299224   974.873677   449.917722   2543.437544\n",
       "std       0.948412     0.459619   393.962247   820.047389   1122.110909\n",
       "min       0.000000     0.500000   180.000000     1.000000    175.000000\n",
       "25%       1.000000     1.000000   733.000000     1.000000   1795.000000\n",
       "50%       2.000000     1.000000   953.000000     1.000000   2300.000000\n",
       "75%       2.000000     1.500000  1060.000000     1.000000   2950.000000\n",
       "max       5.000000     4.000000  5000.000000  2017.000000  13000.000000"
      ]
     },
     "execution_count": 4,
     "metadata": {},
     "output_type": "execute_result"
    }
   ],
   "source": [
    "df.describe()"
   ]
  },
  {
   "cell_type": "code",
   "execution_count": 5,
   "metadata": {},
   "outputs": [
    {
     "name": "stdout",
     "output_type": "stream",
     "text": [
      "<class 'pandas.core.frame.DataFrame'>\n",
      "RangeIndex: 1417 entries, 0 to 1416\n",
      "Data columns (total 7 columns):\n",
      "bed           1417 non-null float64\n",
      "bath          1417 non-null float64\n",
      "square        1417 non-null float64\n",
      "city          1417 non-null object\n",
      "year_built    632 non-null float64\n",
      "home_type     632 non-null object\n",
      "price         1417 non-null float64\n",
      "dtypes: float64(5), object(2)\n",
      "memory usage: 77.6+ KB\n"
     ]
    }
   ],
   "source": [
    "df.info()"
   ]
  },
  {
   "cell_type": "code",
   "execution_count": 6,
   "metadata": {},
   "outputs": [
    {
     "data": {
      "text/plain": [
       "2.0    536\n",
       "1.0    485\n",
       "3.0    233\n",
       "0.0    121\n",
       "4.0     38\n",
       "5.0      4\n",
       "Name: bed, dtype: int64"
      ]
     },
     "execution_count": 6,
     "metadata": {},
     "output_type": "execute_result"
    }
   ],
   "source": [
    "df['bed'].value_counts()"
   ]
  },
  {
   "cell_type": "code",
   "execution_count": 7,
   "metadata": {},
   "outputs": [
    {
     "data": {
      "text/plain": [
       "1.0    882\n",
       "1.5    280\n",
       "2.0    227\n",
       "3.0     15\n",
       "2.5      5\n",
       "4.0      5\n",
       "3.5      2\n",
       "0.5      1\n",
       "Name: bath, dtype: int64"
      ]
     },
     "execution_count": 7,
     "metadata": {},
     "output_type": "execute_result"
    }
   ],
   "source": [
    "df['bath'].value_counts()"
   ]
  },
  {
   "cell_type": "code",
   "execution_count": 8,
   "metadata": {},
   "outputs": [],
   "source": [
    "df['bed'] = df['bed'].astype('int')"
   ]
  },
  {
   "cell_type": "code",
   "execution_count": 9,
   "metadata": {},
   "outputs": [],
   "source": [
    "df['square'] = df['square'].astype('int')"
   ]
  },
  {
   "cell_type": "code",
   "execution_count": 10,
   "metadata": {},
   "outputs": [],
   "source": [
    "df['price'] = df['price'].astype('int')"
   ]
  },
  {
   "cell_type": "code",
   "execution_count": 11,
   "metadata": {},
   "outputs": [],
   "source": [
    "df['year_built'] = df['year_built'].fillna(0)"
   ]
  },
  {
   "cell_type": "code",
   "execution_count": 12,
   "metadata": {},
   "outputs": [],
   "source": [
    "df['year_built'] = df['year_built'].astype('int')"
   ]
  },
  {
   "cell_type": "code",
   "execution_count": 13,
   "metadata": {},
   "outputs": [],
   "source": [
    "df['home_type'] = df['home_type'].fillna('None')"
   ]
  },
  {
   "cell_type": "code",
   "execution_count": 14,
   "metadata": {},
   "outputs": [
    {
     "name": "stdout",
     "output_type": "stream",
     "text": [
      "<class 'pandas.core.frame.DataFrame'>\n",
      "RangeIndex: 1417 entries, 0 to 1416\n",
      "Data columns (total 7 columns):\n",
      "bed           1417 non-null int64\n",
      "bath          1417 non-null float64\n",
      "square        1417 non-null int64\n",
      "city          1417 non-null object\n",
      "year_built    1417 non-null int64\n",
      "home_type     1417 non-null object\n",
      "price         1417 non-null int64\n",
      "dtypes: float64(1), int64(4), object(2)\n",
      "memory usage: 77.6+ KB\n"
     ]
    }
   ],
   "source": [
    "df.info()"
   ]
  },
  {
   "cell_type": "code",
   "execution_count": 15,
   "metadata": {},
   "outputs": [
    {
     "data": {
      "text/html": [
       "<div>\n",
       "<style scoped>\n",
       "    .dataframe tbody tr th:only-of-type {\n",
       "        vertical-align: middle;\n",
       "    }\n",
       "\n",
       "    .dataframe tbody tr th {\n",
       "        vertical-align: top;\n",
       "    }\n",
       "\n",
       "    .dataframe thead th {\n",
       "        text-align: right;\n",
       "    }\n",
       "</style>\n",
       "<table border=\"1\" class=\"dataframe\">\n",
       "  <thead>\n",
       "    <tr style=\"text-align: right;\">\n",
       "      <th></th>\n",
       "      <th>bed</th>\n",
       "      <th>bath</th>\n",
       "      <th>square</th>\n",
       "      <th>year_built</th>\n",
       "      <th>price</th>\n",
       "    </tr>\n",
       "  </thead>\n",
       "  <tbody>\n",
       "    <tr>\n",
       "      <th>count</th>\n",
       "      <td>1417.000000</td>\n",
       "      <td>1417.000000</td>\n",
       "      <td>1417.000000</td>\n",
       "      <td>1417.000000</td>\n",
       "      <td>1417.000000</td>\n",
       "    </tr>\n",
       "    <tr>\n",
       "      <th>mean</th>\n",
       "      <td>1.713479</td>\n",
       "      <td>1.299224</td>\n",
       "      <td>974.873677</td>\n",
       "      <td>200.669019</td>\n",
       "      <td>2543.437544</td>\n",
       "    </tr>\n",
       "    <tr>\n",
       "      <th>std</th>\n",
       "      <td>0.948412</td>\n",
       "      <td>0.459619</td>\n",
       "      <td>393.962247</td>\n",
       "      <td>591.373253</td>\n",
       "      <td>1122.110909</td>\n",
       "    </tr>\n",
       "    <tr>\n",
       "      <th>min</th>\n",
       "      <td>0.000000</td>\n",
       "      <td>0.500000</td>\n",
       "      <td>180.000000</td>\n",
       "      <td>0.000000</td>\n",
       "      <td>175.000000</td>\n",
       "    </tr>\n",
       "    <tr>\n",
       "      <th>25%</th>\n",
       "      <td>1.000000</td>\n",
       "      <td>1.000000</td>\n",
       "      <td>733.000000</td>\n",
       "      <td>0.000000</td>\n",
       "      <td>1795.000000</td>\n",
       "    </tr>\n",
       "    <tr>\n",
       "      <th>50%</th>\n",
       "      <td>2.000000</td>\n",
       "      <td>1.000000</td>\n",
       "      <td>953.000000</td>\n",
       "      <td>0.000000</td>\n",
       "      <td>2300.000000</td>\n",
       "    </tr>\n",
       "    <tr>\n",
       "      <th>75%</th>\n",
       "      <td>2.000000</td>\n",
       "      <td>1.500000</td>\n",
       "      <td>1060.000000</td>\n",
       "      <td>1.000000</td>\n",
       "      <td>2950.000000</td>\n",
       "    </tr>\n",
       "    <tr>\n",
       "      <th>max</th>\n",
       "      <td>5.000000</td>\n",
       "      <td>4.000000</td>\n",
       "      <td>5000.000000</td>\n",
       "      <td>2017.000000</td>\n",
       "      <td>13000.000000</td>\n",
       "    </tr>\n",
       "  </tbody>\n",
       "</table>\n",
       "</div>"
      ],
      "text/plain": [
       "               bed         bath       square   year_built         price\n",
       "count  1417.000000  1417.000000  1417.000000  1417.000000   1417.000000\n",
       "mean      1.713479     1.299224   974.873677   200.669019   2543.437544\n",
       "std       0.948412     0.459619   393.962247   591.373253   1122.110909\n",
       "min       0.000000     0.500000   180.000000     0.000000    175.000000\n",
       "25%       1.000000     1.000000   733.000000     0.000000   1795.000000\n",
       "50%       2.000000     1.000000   953.000000     0.000000   2300.000000\n",
       "75%       2.000000     1.500000  1060.000000     1.000000   2950.000000\n",
       "max       5.000000     4.000000  5000.000000  2017.000000  13000.000000"
      ]
     },
     "execution_count": 15,
     "metadata": {},
     "output_type": "execute_result"
    }
   ],
   "source": [
    "df.describe()"
   ]
  },
  {
   "cell_type": "code",
   "execution_count": 16,
   "metadata": {},
   "outputs": [
    {
     "data": {
      "text/html": [
       "<div>\n",
       "<style scoped>\n",
       "    .dataframe tbody tr th:only-of-type {\n",
       "        vertical-align: middle;\n",
       "    }\n",
       "\n",
       "    .dataframe tbody tr th {\n",
       "        vertical-align: top;\n",
       "    }\n",
       "\n",
       "    .dataframe thead th {\n",
       "        text-align: right;\n",
       "    }\n",
       "</style>\n",
       "<table border=\"1\" class=\"dataframe\">\n",
       "  <thead>\n",
       "    <tr style=\"text-align: right;\">\n",
       "      <th></th>\n",
       "      <th>bed</th>\n",
       "      <th>bath</th>\n",
       "      <th>square</th>\n",
       "      <th>city</th>\n",
       "      <th>year_built</th>\n",
       "      <th>home_type</th>\n",
       "      <th>price</th>\n",
       "    </tr>\n",
       "  </thead>\n",
       "  <tbody>\n",
       "    <tr>\n",
       "      <th>291</th>\n",
       "      <td>1</td>\n",
       "      <td>1.0</td>\n",
       "      <td>700</td>\n",
       "      <td>Hoboken</td>\n",
       "      <td>1</td>\n",
       "      <td>APARTMENT</td>\n",
       "      <td>1850</td>\n",
       "    </tr>\n",
       "    <tr>\n",
       "      <th>1416</th>\n",
       "      <td>1</td>\n",
       "      <td>1.0</td>\n",
       "      <td>543</td>\n",
       "      <td>Union City</td>\n",
       "      <td>0</td>\n",
       "      <td>None</td>\n",
       "      <td>1400</td>\n",
       "    </tr>\n",
       "    <tr>\n",
       "      <th>370</th>\n",
       "      <td>1</td>\n",
       "      <td>1.0</td>\n",
       "      <td>600</td>\n",
       "      <td>Hoboken</td>\n",
       "      <td>1</td>\n",
       "      <td>APARTMENT</td>\n",
       "      <td>1700</td>\n",
       "    </tr>\n",
       "    <tr>\n",
       "      <th>663</th>\n",
       "      <td>1</td>\n",
       "      <td>1.0</td>\n",
       "      <td>733</td>\n",
       "      <td>Jersey City</td>\n",
       "      <td>0</td>\n",
       "      <td>None</td>\n",
       "      <td>2590</td>\n",
       "    </tr>\n",
       "    <tr>\n",
       "      <th>1138</th>\n",
       "      <td>3</td>\n",
       "      <td>1.0</td>\n",
       "      <td>1500</td>\n",
       "      <td>Jersey City</td>\n",
       "      <td>0</td>\n",
       "      <td>None</td>\n",
       "      <td>2150</td>\n",
       "    </tr>\n",
       "    <tr>\n",
       "      <th>1107</th>\n",
       "      <td>1</td>\n",
       "      <td>1.0</td>\n",
       "      <td>733</td>\n",
       "      <td>Jersey City</td>\n",
       "      <td>0</td>\n",
       "      <td>None</td>\n",
       "      <td>1595</td>\n",
       "    </tr>\n",
       "    <tr>\n",
       "      <th>582</th>\n",
       "      <td>1</td>\n",
       "      <td>1.0</td>\n",
       "      <td>733</td>\n",
       "      <td>Jersey City</td>\n",
       "      <td>0</td>\n",
       "      <td>None</td>\n",
       "      <td>2550</td>\n",
       "    </tr>\n",
       "    <tr>\n",
       "      <th>885</th>\n",
       "      <td>2</td>\n",
       "      <td>1.5</td>\n",
       "      <td>1006</td>\n",
       "      <td>Jersey City</td>\n",
       "      <td>0</td>\n",
       "      <td>None</td>\n",
       "      <td>1500</td>\n",
       "    </tr>\n",
       "    <tr>\n",
       "      <th>1234</th>\n",
       "      <td>1</td>\n",
       "      <td>1.0</td>\n",
       "      <td>500</td>\n",
       "      <td>Union City</td>\n",
       "      <td>1</td>\n",
       "      <td>APARTMENT</td>\n",
       "      <td>1375</td>\n",
       "    </tr>\n",
       "    <tr>\n",
       "      <th>1253</th>\n",
       "      <td>2</td>\n",
       "      <td>1.5</td>\n",
       "      <td>1006</td>\n",
       "      <td>Union City</td>\n",
       "      <td>0</td>\n",
       "      <td>None</td>\n",
       "      <td>1450</td>\n",
       "    </tr>\n",
       "  </tbody>\n",
       "</table>\n",
       "</div>"
      ],
      "text/plain": [
       "      bed  bath  square         city  year_built  home_type  price\n",
       "291     1   1.0     700      Hoboken           1  APARTMENT   1850\n",
       "1416    1   1.0     543   Union City           0       None   1400\n",
       "370     1   1.0     600      Hoboken           1  APARTMENT   1700\n",
       "663     1   1.0     733  Jersey City           0       None   2590\n",
       "1138    3   1.0    1500  Jersey City           0       None   2150\n",
       "1107    1   1.0     733  Jersey City           0       None   1595\n",
       "582     1   1.0     733  Jersey City           0       None   2550\n",
       "885     2   1.5    1006  Jersey City           0       None   1500\n",
       "1234    1   1.0     500   Union City           1  APARTMENT   1375\n",
       "1253    2   1.5    1006   Union City           0       None   1450"
      ]
     },
     "execution_count": 16,
     "metadata": {},
     "output_type": "execute_result"
    }
   ],
   "source": [
    "df.sample(10)"
   ]
  },
  {
   "cell_type": "code",
   "execution_count": 17,
   "metadata": {},
   "outputs": [
    {
     "data": {
      "text/plain": [
       "Jersey City      638\n",
       "Hoboken          547\n",
       "Union City       220\n",
       "HOBOKEN            5\n",
       "North Bergen       3\n",
       "Jersey city        2\n",
       "West New York      1\n",
       "UNION CITY         1\n",
       "Name: city, dtype: int64"
      ]
     },
     "execution_count": 17,
     "metadata": {},
     "output_type": "execute_result"
    }
   ],
   "source": [
    "df['city'].value_counts()"
   ]
  },
  {
   "cell_type": "code",
   "execution_count": 18,
   "metadata": {},
   "outputs": [],
   "source": [
    "df.loc[df['city'] == 'HOBOKEN', 'city'] = 'Hoboken'\n",
    "df.loc[df['city'] == 'Jersey city', 'city'] = 'Jersey City'\n",
    "df.loc[df['city'] == 'UNION CITY', 'city'] = 'Union City'"
   ]
  },
  {
   "cell_type": "code",
   "execution_count": 19,
   "metadata": {},
   "outputs": [],
   "source": [
    "df = df[df.city != 'North Bergen']\n",
    "df = df[df.city != 'West New York']"
   ]
  },
  {
   "cell_type": "code",
   "execution_count": 20,
   "metadata": {},
   "outputs": [
    {
     "data": {
      "text/plain": [
       "Jersey City    640\n",
       "Hoboken        552\n",
       "Union City     221\n",
       "Name: city, dtype: int64"
      ]
     },
     "execution_count": 20,
     "metadata": {},
     "output_type": "execute_result"
    }
   ],
   "source": [
    "df['city'].value_counts()"
   ]
  },
  {
   "cell_type": "code",
   "execution_count": 21,
   "metadata": {},
   "outputs": [
    {
     "data": {
      "text/plain": [
       "0       785\n",
       "1       484\n",
       "1901     35\n",
       "1900     10\n",
       "1920      8\n",
       "1910      8\n",
       "2005      5\n",
       "2000      5\n",
       "2006      5\n",
       "2008      5\n",
       "2015      5\n",
       "2002      3\n",
       "2010      3\n",
       "1990      3\n",
       "1921      3\n",
       "1897      2\n",
       "1930      2\n",
       "1892      2\n",
       "1890      2\n",
       "1889      2\n",
       "1925      2\n",
       "1950      2\n",
       "2014      2\n",
       "2013      2\n",
       "2009      2\n",
       "2007      2\n",
       "2004      2\n",
       "2001      2\n",
       "1967      1\n",
       "1957      1\n",
       "1800      1\n",
       "1880      1\n",
       "2011      1\n",
       "1898      1\n",
       "1905      1\n",
       "1908      1\n",
       "1999      1\n",
       "1916      1\n",
       "1917      1\n",
       "1987      1\n",
       "1985      1\n",
       "1924      1\n",
       "1973      1\n",
       "1928      1\n",
       "1970      1\n",
       "1932      1\n",
       "2016      1\n",
       "2017      1\n",
       "Name: year_built, dtype: int64"
      ]
     },
     "execution_count": 21,
     "metadata": {},
     "output_type": "execute_result"
    }
   ],
   "source": [
    "df['year_built'].value_counts()"
   ]
  },
  {
   "cell_type": "code",
   "execution_count": 22,
   "metadata": {},
   "outputs": [
    {
     "data": {
      "text/plain": [
       "None             785\n",
       "APARTMENT        504\n",
       "MULTI_FAMILY      77\n",
       "CONDO             32\n",
       "TOWNHOUSE          9\n",
       "SINGLE_FAMILY      6\n",
       "Name: home_type, dtype: int64"
      ]
     },
     "execution_count": 22,
     "metadata": {},
     "output_type": "execute_result"
    }
   ],
   "source": [
    "df['home_type'].value_counts()"
   ]
  },
  {
   "cell_type": "code",
   "execution_count": 23,
   "metadata": {},
   "outputs": [],
   "source": [
    "df.to_csv('clean_data.csv', index=False)"
   ]
  }
 ],
 "metadata": {
  "kernelspec": {
   "display_name": "Python 3",
   "language": "python",
   "name": "python3"
  },
  "language_info": {
   "codemirror_mode": {
    "name": "ipython",
    "version": 3
   },
   "file_extension": ".py",
   "mimetype": "text/x-python",
   "name": "python",
   "nbconvert_exporter": "python",
   "pygments_lexer": "ipython3",
   "version": "3.7.2"
  }
 },
 "nbformat": 4,
 "nbformat_minor": 2
}
