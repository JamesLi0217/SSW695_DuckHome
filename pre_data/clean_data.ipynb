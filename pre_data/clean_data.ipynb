{
 "cells": [
  {
   "cell_type": "code",
   "execution_count": 1,
   "metadata": {},
   "outputs": [],
   "source": [
    "import pandas as pd\n",
    "import numpy as np"
   ]
  },
  {
   "cell_type": "code",
   "execution_count": 2,
   "metadata": {},
   "outputs": [],
   "source": [
    "df = pd.read_csv('raw_data.csv')"
   ]
  },
  {
   "cell_type": "code",
   "execution_count": 3,
   "metadata": {},
   "outputs": [
    {
     "data": {
      "text/html": [
       "<div>\n",
       "<style scoped>\n",
       "    .dataframe tbody tr th:only-of-type {\n",
       "        vertical-align: middle;\n",
       "    }\n",
       "\n",
       "    .dataframe tbody tr th {\n",
       "        vertical-align: top;\n",
       "    }\n",
       "\n",
       "    .dataframe thead th {\n",
       "        text-align: right;\n",
       "    }\n",
       "</style>\n",
       "<table border=\"1\" class=\"dataframe\">\n",
       "  <thead>\n",
       "    <tr style=\"text-align: right;\">\n",
       "      <th></th>\n",
       "      <th>bed</th>\n",
       "      <th>bath</th>\n",
       "      <th>square</th>\n",
       "      <th>city</th>\n",
       "      <th>year_built</th>\n",
       "      <th>home_type</th>\n",
       "      <th>price</th>\n",
       "    </tr>\n",
       "  </thead>\n",
       "  <tbody>\n",
       "    <tr>\n",
       "      <th>375</th>\n",
       "      <td>1.0</td>\n",
       "      <td>1.0</td>\n",
       "      <td>500.0</td>\n",
       "      <td>Hoboken</td>\n",
       "      <td>1.0</td>\n",
       "      <td>CONDO</td>\n",
       "      <td>2050.0</td>\n",
       "    </tr>\n",
       "    <tr>\n",
       "      <th>1137</th>\n",
       "      <td>2.0</td>\n",
       "      <td>1.0</td>\n",
       "      <td>1031.0</td>\n",
       "      <td>Union City</td>\n",
       "      <td>1.0</td>\n",
       "      <td>APARTMENT</td>\n",
       "      <td>1650.0</td>\n",
       "    </tr>\n",
       "    <tr>\n",
       "      <th>1135</th>\n",
       "      <td>2.0</td>\n",
       "      <td>1.0</td>\n",
       "      <td>741.0</td>\n",
       "      <td>Union City</td>\n",
       "      <td>1.0</td>\n",
       "      <td>MULTI_FAMILY</td>\n",
       "      <td>1514.0</td>\n",
       "    </tr>\n",
       "    <tr>\n",
       "      <th>43</th>\n",
       "      <td>1.0</td>\n",
       "      <td>1.0</td>\n",
       "      <td>1023.0</td>\n",
       "      <td>Hoboken</td>\n",
       "      <td>NaN</td>\n",
       "      <td>NaN</td>\n",
       "      <td>2175.0</td>\n",
       "    </tr>\n",
       "    <tr>\n",
       "      <th>601</th>\n",
       "      <td>1.0</td>\n",
       "      <td>1.0</td>\n",
       "      <td>1095.0</td>\n",
       "      <td>Jersey City</td>\n",
       "      <td>NaN</td>\n",
       "      <td>NaN</td>\n",
       "      <td>4100.0</td>\n",
       "    </tr>\n",
       "    <tr>\n",
       "      <th>1061</th>\n",
       "      <td>1.0</td>\n",
       "      <td>1.0</td>\n",
       "      <td>725.0</td>\n",
       "      <td>Jersey City</td>\n",
       "      <td>NaN</td>\n",
       "      <td>NaN</td>\n",
       "      <td>2450.0</td>\n",
       "    </tr>\n",
       "    <tr>\n",
       "      <th>1138</th>\n",
       "      <td>1.0</td>\n",
       "      <td>1.0</td>\n",
       "      <td>550.0</td>\n",
       "      <td>Union City</td>\n",
       "      <td>1.0</td>\n",
       "      <td>MULTI_FAMILY</td>\n",
       "      <td>1300.0</td>\n",
       "    </tr>\n",
       "    <tr>\n",
       "      <th>1198</th>\n",
       "      <td>1.0</td>\n",
       "      <td>1.0</td>\n",
       "      <td>650.0</td>\n",
       "      <td>Union City</td>\n",
       "      <td>NaN</td>\n",
       "      <td>NaN</td>\n",
       "      <td>1395.0</td>\n",
       "    </tr>\n",
       "    <tr>\n",
       "      <th>1139</th>\n",
       "      <td>1.0</td>\n",
       "      <td>1.5</td>\n",
       "      <td>895.0</td>\n",
       "      <td>Union City</td>\n",
       "      <td>1.0</td>\n",
       "      <td>MULTI_FAMILY</td>\n",
       "      <td>1350.0</td>\n",
       "    </tr>\n",
       "    <tr>\n",
       "      <th>204</th>\n",
       "      <td>3.0</td>\n",
       "      <td>1.0</td>\n",
       "      <td>1100.0</td>\n",
       "      <td>Hoboken</td>\n",
       "      <td>1921.0</td>\n",
       "      <td>APARTMENT</td>\n",
       "      <td>3500.0</td>\n",
       "    </tr>\n",
       "  </tbody>\n",
       "</table>\n",
       "</div>"
      ],
      "text/plain": [
       "      bed  bath  square         city  year_built     home_type   price\n",
       "375   1.0   1.0   500.0      Hoboken         1.0         CONDO  2050.0\n",
       "1137  2.0   1.0  1031.0   Union City         1.0     APARTMENT  1650.0\n",
       "1135  2.0   1.0   741.0   Union City         1.0  MULTI_FAMILY  1514.0\n",
       "43    1.0   1.0  1023.0      Hoboken         NaN           NaN  2175.0\n",
       "601   1.0   1.0  1095.0  Jersey City         NaN           NaN  4100.0\n",
       "1061  1.0   1.0   725.0  Jersey City         NaN           NaN  2450.0\n",
       "1138  1.0   1.0   550.0   Union City         1.0  MULTI_FAMILY  1300.0\n",
       "1198  1.0   1.0   650.0   Union City         NaN           NaN  1395.0\n",
       "1139  1.0   1.5   895.0   Union City         1.0  MULTI_FAMILY  1350.0\n",
       "204   3.0   1.0  1100.0      Hoboken      1921.0     APARTMENT  3500.0"
      ]
     },
     "execution_count": 3,
     "metadata": {},
     "output_type": "execute_result"
    }
   ],
   "source": [
    "df.sample(10)"
   ]
  },
  {
   "cell_type": "code",
   "execution_count": 4,
   "metadata": {},
   "outputs": [
    {
     "data": {
      "text/html": [
       "<div>\n",
       "<style scoped>\n",
       "    .dataframe tbody tr th:only-of-type {\n",
       "        vertical-align: middle;\n",
       "    }\n",
       "\n",
       "    .dataframe tbody tr th {\n",
       "        vertical-align: top;\n",
       "    }\n",
       "\n",
       "    .dataframe thead th {\n",
       "        text-align: right;\n",
       "    }\n",
       "</style>\n",
       "<table border=\"1\" class=\"dataframe\">\n",
       "  <thead>\n",
       "    <tr style=\"text-align: right;\">\n",
       "      <th></th>\n",
       "      <th>bed</th>\n",
       "      <th>bath</th>\n",
       "      <th>square</th>\n",
       "      <th>year_built</th>\n",
       "      <th>price</th>\n",
       "    </tr>\n",
       "  </thead>\n",
       "  <tbody>\n",
       "    <tr>\n",
       "      <th>count</th>\n",
       "      <td>1350.000000</td>\n",
       "      <td>1350.000000</td>\n",
       "      <td>1350.000000</td>\n",
       "      <td>626.000000</td>\n",
       "      <td>1350.000000</td>\n",
       "    </tr>\n",
       "    <tr>\n",
       "      <th>mean</th>\n",
       "      <td>1.772593</td>\n",
       "      <td>1.207778</td>\n",
       "      <td>1014.608148</td>\n",
       "      <td>498.289137</td>\n",
       "      <td>2548.493333</td>\n",
       "    </tr>\n",
       "    <tr>\n",
       "      <th>std</th>\n",
       "      <td>0.908402</td>\n",
       "      <td>0.454749</td>\n",
       "      <td>337.956803</td>\n",
       "      <td>849.723815</td>\n",
       "      <td>1124.865636</td>\n",
       "    </tr>\n",
       "    <tr>\n",
       "      <th>min</th>\n",
       "      <td>0.000000</td>\n",
       "      <td>0.500000</td>\n",
       "      <td>400.000000</td>\n",
       "      <td>1.000000</td>\n",
       "      <td>998.000000</td>\n",
       "    </tr>\n",
       "    <tr>\n",
       "      <th>25%</th>\n",
       "      <td>1.000000</td>\n",
       "      <td>1.000000</td>\n",
       "      <td>803.500000</td>\n",
       "      <td>1.000000</td>\n",
       "      <td>1795.000000</td>\n",
       "    </tr>\n",
       "    <tr>\n",
       "      <th>50%</th>\n",
       "      <td>2.000000</td>\n",
       "      <td>1.000000</td>\n",
       "      <td>1095.000000</td>\n",
       "      <td>1.000000</td>\n",
       "      <td>2300.000000</td>\n",
       "    </tr>\n",
       "    <tr>\n",
       "      <th>75%</th>\n",
       "      <td>2.000000</td>\n",
       "      <td>1.000000</td>\n",
       "      <td>1095.000000</td>\n",
       "      <td>1888.500000</td>\n",
       "      <td>2975.000000</td>\n",
       "    </tr>\n",
       "    <tr>\n",
       "      <th>max</th>\n",
       "      <td>6.000000</td>\n",
       "      <td>4.000000</td>\n",
       "      <td>5000.000000</td>\n",
       "      <td>2017.000000</td>\n",
       "      <td>13000.000000</td>\n",
       "    </tr>\n",
       "  </tbody>\n",
       "</table>\n",
       "</div>"
      ],
      "text/plain": [
       "               bed         bath       square   year_built         price\n",
       "count  1350.000000  1350.000000  1350.000000   626.000000   1350.000000\n",
       "mean      1.772593     1.207778  1014.608148   498.289137   2548.493333\n",
       "std       0.908402     0.454749   337.956803   849.723815   1124.865636\n",
       "min       0.000000     0.500000   400.000000     1.000000    998.000000\n",
       "25%       1.000000     1.000000   803.500000     1.000000   1795.000000\n",
       "50%       2.000000     1.000000  1095.000000     1.000000   2300.000000\n",
       "75%       2.000000     1.000000  1095.000000  1888.500000   2975.000000\n",
       "max       6.000000     4.000000  5000.000000  2017.000000  13000.000000"
      ]
     },
     "execution_count": 4,
     "metadata": {},
     "output_type": "execute_result"
    }
   ],
   "source": [
    "df.describe()"
   ]
  },
  {
   "cell_type": "code",
   "execution_count": 5,
   "metadata": {},
   "outputs": [
    {
     "name": "stdout",
     "output_type": "stream",
     "text": [
      "<class 'pandas.core.frame.DataFrame'>\n",
      "RangeIndex: 1350 entries, 0 to 1349\n",
      "Data columns (total 7 columns):\n",
      "bed           1350 non-null float64\n",
      "bath          1350 non-null float64\n",
      "square        1350 non-null float64\n",
      "city          1350 non-null object\n",
      "year_built    626 non-null float64\n",
      "home_type     626 non-null object\n",
      "price         1350 non-null float64\n",
      "dtypes: float64(5), object(2)\n",
      "memory usage: 73.9+ KB\n"
     ]
    }
   ],
   "source": [
    "df.info()"
   ]
  },
  {
   "cell_type": "code",
   "execution_count": 6,
   "metadata": {},
   "outputs": [
    {
     "data": {
      "text/plain": [
       "2.0    509\n",
       "1.0    501\n",
       "3.0    235\n",
       "0.0     64\n",
       "4.0     37\n",
       "5.0      3\n",
       "6.0      1\n",
       "Name: bed, dtype: int64"
      ]
     },
     "execution_count": 6,
     "metadata": {},
     "output_type": "execute_result"
    }
   ],
   "source": [
    "df['bed'].value_counts()"
   ]
  },
  {
   "cell_type": "code",
   "execution_count": 7,
   "metadata": {},
   "outputs": [
    {
     "data": {
      "text/plain": [
       "1.0    1081\n",
       "2.0     217\n",
       "1.5      27\n",
       "3.0      10\n",
       "2.5       7\n",
       "4.0       5\n",
       "3.5       2\n",
       "0.5       1\n",
       "Name: bath, dtype: int64"
      ]
     },
     "execution_count": 7,
     "metadata": {},
     "output_type": "execute_result"
    }
   ],
   "source": [
    "df['bath'].value_counts()"
   ]
  },
  {
   "cell_type": "code",
   "execution_count": 8,
   "metadata": {},
   "outputs": [],
   "source": [
    "df['bed'] = df['bed'].astype('int')"
   ]
  },
  {
   "cell_type": "code",
   "execution_count": 9,
   "metadata": {},
   "outputs": [],
   "source": [
    "df['square'] = df['square'].astype('int')"
   ]
  },
  {
   "cell_type": "code",
   "execution_count": 10,
   "metadata": {},
   "outputs": [],
   "source": [
    "df['price'] = df['price'].astype('int')"
   ]
  },
  {
   "cell_type": "code",
   "execution_count": 11,
   "metadata": {},
   "outputs": [],
   "source": [
    "df['year_built'] = df['year_built'].fillna(0)"
   ]
  },
  {
   "cell_type": "code",
   "execution_count": 12,
   "metadata": {},
   "outputs": [],
   "source": [
    "df['year_built'] = df['year_built'].astype('int')"
   ]
  },
  {
   "cell_type": "code",
   "execution_count": 13,
   "metadata": {},
   "outputs": [],
   "source": [
    "df['home_type'] = df['home_type'].fillna('None')"
   ]
  },
  {
   "cell_type": "code",
   "execution_count": 14,
   "metadata": {},
   "outputs": [
    {
     "name": "stdout",
     "output_type": "stream",
     "text": [
      "<class 'pandas.core.frame.DataFrame'>\n",
      "RangeIndex: 1350 entries, 0 to 1349\n",
      "Data columns (total 7 columns):\n",
      "bed           1350 non-null int64\n",
      "bath          1350 non-null float64\n",
      "square        1350 non-null int64\n",
      "city          1350 non-null object\n",
      "year_built    1350 non-null int64\n",
      "home_type     1350 non-null object\n",
      "price         1350 non-null int64\n",
      "dtypes: float64(1), int64(4), object(2)\n",
      "memory usage: 73.9+ KB\n"
     ]
    }
   ],
   "source": [
    "df.info()"
   ]
  },
  {
   "cell_type": "code",
   "execution_count": 15,
   "metadata": {},
   "outputs": [
    {
     "data": {
      "text/html": [
       "<div>\n",
       "<style scoped>\n",
       "    .dataframe tbody tr th:only-of-type {\n",
       "        vertical-align: middle;\n",
       "    }\n",
       "\n",
       "    .dataframe tbody tr th {\n",
       "        vertical-align: top;\n",
       "    }\n",
       "\n",
       "    .dataframe thead th {\n",
       "        text-align: right;\n",
       "    }\n",
       "</style>\n",
       "<table border=\"1\" class=\"dataframe\">\n",
       "  <thead>\n",
       "    <tr style=\"text-align: right;\">\n",
       "      <th></th>\n",
       "      <th>bed</th>\n",
       "      <th>bath</th>\n",
       "      <th>square</th>\n",
       "      <th>year_built</th>\n",
       "      <th>price</th>\n",
       "    </tr>\n",
       "  </thead>\n",
       "  <tbody>\n",
       "    <tr>\n",
       "      <th>count</th>\n",
       "      <td>1350.000000</td>\n",
       "      <td>1350.000000</td>\n",
       "      <td>1350.000000</td>\n",
       "      <td>1350.000000</td>\n",
       "      <td>1350.000000</td>\n",
       "    </tr>\n",
       "    <tr>\n",
       "      <th>mean</th>\n",
       "      <td>1.772593</td>\n",
       "      <td>1.207778</td>\n",
       "      <td>1014.608148</td>\n",
       "      <td>231.058519</td>\n",
       "      <td>2548.493333</td>\n",
       "    </tr>\n",
       "    <tr>\n",
       "      <th>std</th>\n",
       "      <td>0.908402</td>\n",
       "      <td>0.454749</td>\n",
       "      <td>337.956803</td>\n",
       "      <td>629.533862</td>\n",
       "      <td>1124.865636</td>\n",
       "    </tr>\n",
       "    <tr>\n",
       "      <th>min</th>\n",
       "      <td>0.000000</td>\n",
       "      <td>0.500000</td>\n",
       "      <td>400.000000</td>\n",
       "      <td>0.000000</td>\n",
       "      <td>998.000000</td>\n",
       "    </tr>\n",
       "    <tr>\n",
       "      <th>25%</th>\n",
       "      <td>1.000000</td>\n",
       "      <td>1.000000</td>\n",
       "      <td>803.500000</td>\n",
       "      <td>0.000000</td>\n",
       "      <td>1795.000000</td>\n",
       "    </tr>\n",
       "    <tr>\n",
       "      <th>50%</th>\n",
       "      <td>2.000000</td>\n",
       "      <td>1.000000</td>\n",
       "      <td>1095.000000</td>\n",
       "      <td>0.000000</td>\n",
       "      <td>2300.000000</td>\n",
       "    </tr>\n",
       "    <tr>\n",
       "      <th>75%</th>\n",
       "      <td>2.000000</td>\n",
       "      <td>1.000000</td>\n",
       "      <td>1095.000000</td>\n",
       "      <td>1.000000</td>\n",
       "      <td>2975.000000</td>\n",
       "    </tr>\n",
       "    <tr>\n",
       "      <th>max</th>\n",
       "      <td>6.000000</td>\n",
       "      <td>4.000000</td>\n",
       "      <td>5000.000000</td>\n",
       "      <td>2017.000000</td>\n",
       "      <td>13000.000000</td>\n",
       "    </tr>\n",
       "  </tbody>\n",
       "</table>\n",
       "</div>"
      ],
      "text/plain": [
       "               bed         bath       square   year_built         price\n",
       "count  1350.000000  1350.000000  1350.000000  1350.000000   1350.000000\n",
       "mean      1.772593     1.207778  1014.608148   231.058519   2548.493333\n",
       "std       0.908402     0.454749   337.956803   629.533862   1124.865636\n",
       "min       0.000000     0.500000   400.000000     0.000000    998.000000\n",
       "25%       1.000000     1.000000   803.500000     0.000000   1795.000000\n",
       "50%       2.000000     1.000000  1095.000000     0.000000   2300.000000\n",
       "75%       2.000000     1.000000  1095.000000     1.000000   2975.000000\n",
       "max       6.000000     4.000000  5000.000000  2017.000000  13000.000000"
      ]
     },
     "execution_count": 15,
     "metadata": {},
     "output_type": "execute_result"
    }
   ],
   "source": [
    "df.describe()"
   ]
  },
  {
   "cell_type": "code",
   "execution_count": 16,
   "metadata": {},
   "outputs": [
    {
     "data": {
      "text/html": [
       "<div>\n",
       "<style scoped>\n",
       "    .dataframe tbody tr th:only-of-type {\n",
       "        vertical-align: middle;\n",
       "    }\n",
       "\n",
       "    .dataframe tbody tr th {\n",
       "        vertical-align: top;\n",
       "    }\n",
       "\n",
       "    .dataframe thead th {\n",
       "        text-align: right;\n",
       "    }\n",
       "</style>\n",
       "<table border=\"1\" class=\"dataframe\">\n",
       "  <thead>\n",
       "    <tr style=\"text-align: right;\">\n",
       "      <th></th>\n",
       "      <th>bed</th>\n",
       "      <th>bath</th>\n",
       "      <th>square</th>\n",
       "      <th>city</th>\n",
       "      <th>year_built</th>\n",
       "      <th>home_type</th>\n",
       "      <th>price</th>\n",
       "    </tr>\n",
       "  </thead>\n",
       "  <tbody>\n",
       "    <tr>\n",
       "      <th>840</th>\n",
       "      <td>1</td>\n",
       "      <td>1.0</td>\n",
       "      <td>1300</td>\n",
       "      <td>Jersey City</td>\n",
       "      <td>2006</td>\n",
       "      <td>APARTMENT</td>\n",
       "      <td>1800</td>\n",
       "    </tr>\n",
       "    <tr>\n",
       "      <th>427</th>\n",
       "      <td>2</td>\n",
       "      <td>1.0</td>\n",
       "      <td>1095</td>\n",
       "      <td>Hoboken</td>\n",
       "      <td>0</td>\n",
       "      <td>None</td>\n",
       "      <td>2600</td>\n",
       "    </tr>\n",
       "    <tr>\n",
       "      <th>154</th>\n",
       "      <td>1</td>\n",
       "      <td>1.0</td>\n",
       "      <td>850</td>\n",
       "      <td>Hoboken</td>\n",
       "      <td>0</td>\n",
       "      <td>None</td>\n",
       "      <td>2999</td>\n",
       "    </tr>\n",
       "    <tr>\n",
       "      <th>1083</th>\n",
       "      <td>1</td>\n",
       "      <td>1.0</td>\n",
       "      <td>1095</td>\n",
       "      <td>Jersey City</td>\n",
       "      <td>0</td>\n",
       "      <td>None</td>\n",
       "      <td>1400</td>\n",
       "    </tr>\n",
       "    <tr>\n",
       "      <th>856</th>\n",
       "      <td>3</td>\n",
       "      <td>1.0</td>\n",
       "      <td>1095</td>\n",
       "      <td>Jersey City</td>\n",
       "      <td>0</td>\n",
       "      <td>None</td>\n",
       "      <td>1595</td>\n",
       "    </tr>\n",
       "    <tr>\n",
       "      <th>172</th>\n",
       "      <td>3</td>\n",
       "      <td>2.0</td>\n",
       "      <td>1980</td>\n",
       "      <td>Hoboken</td>\n",
       "      <td>2015</td>\n",
       "      <td>CONDO</td>\n",
       "      <td>10000</td>\n",
       "    </tr>\n",
       "    <tr>\n",
       "      <th>364</th>\n",
       "      <td>2</td>\n",
       "      <td>1.0</td>\n",
       "      <td>660</td>\n",
       "      <td>Hoboken</td>\n",
       "      <td>1</td>\n",
       "      <td>APARTMENT</td>\n",
       "      <td>1800</td>\n",
       "    </tr>\n",
       "    <tr>\n",
       "      <th>779</th>\n",
       "      <td>1</td>\n",
       "      <td>1.0</td>\n",
       "      <td>650</td>\n",
       "      <td>Jersey City</td>\n",
       "      <td>0</td>\n",
       "      <td>None</td>\n",
       "      <td>1373</td>\n",
       "    </tr>\n",
       "    <tr>\n",
       "      <th>1343</th>\n",
       "      <td>1</td>\n",
       "      <td>1.0</td>\n",
       "      <td>600</td>\n",
       "      <td>Union City</td>\n",
       "      <td>1</td>\n",
       "      <td>MULTI_FAMILY</td>\n",
       "      <td>1750</td>\n",
       "    </tr>\n",
       "    <tr>\n",
       "      <th>785</th>\n",
       "      <td>2</td>\n",
       "      <td>1.0</td>\n",
       "      <td>1095</td>\n",
       "      <td>Jersey City</td>\n",
       "      <td>0</td>\n",
       "      <td>None</td>\n",
       "      <td>3600</td>\n",
       "    </tr>\n",
       "  </tbody>\n",
       "</table>\n",
       "</div>"
      ],
      "text/plain": [
       "      bed  bath  square         city  year_built     home_type  price\n",
       "840     1   1.0    1300  Jersey City        2006     APARTMENT   1800\n",
       "427     2   1.0    1095      Hoboken           0          None   2600\n",
       "154     1   1.0     850      Hoboken           0          None   2999\n",
       "1083    1   1.0    1095  Jersey City           0          None   1400\n",
       "856     3   1.0    1095  Jersey City           0          None   1595\n",
       "172     3   2.0    1980      Hoboken        2015         CONDO  10000\n",
       "364     2   1.0     660      Hoboken           1     APARTMENT   1800\n",
       "779     1   1.0     650  Jersey City           0          None   1373\n",
       "1343    1   1.0     600   Union City           1  MULTI_FAMILY   1750\n",
       "785     2   1.0    1095  Jersey City           0          None   3600"
      ]
     },
     "execution_count": 16,
     "metadata": {},
     "output_type": "execute_result"
    }
   ],
   "source": [
    "df.sample(10)"
   ]
  },
  {
   "cell_type": "code",
   "execution_count": 17,
   "metadata": {},
   "outputs": [
    {
     "data": {
      "text/plain": [
       "Jersey City      630\n",
       "Hoboken          495\n",
       "Union City       212\n",
       "HOBOKEN            5\n",
       "North Bergen       3\n",
       "Jersey city        2\n",
       "West New York      2\n",
       "UNION CITY         1\n",
       "Name: city, dtype: int64"
      ]
     },
     "execution_count": 17,
     "metadata": {},
     "output_type": "execute_result"
    }
   ],
   "source": [
    "df['city'].value_counts()"
   ]
  },
  {
   "cell_type": "code",
   "execution_count": 18,
   "metadata": {},
   "outputs": [],
   "source": [
    "df.loc[df['city'] == 'HOBOKEN'] = 'Hoboken'\n",
    "df.loc[df['city'] == 'JERSEY CITY'] = 'Jersey City'\n",
    "df.loc[df['city'] == 'Jersey city'] = 'Jersey City'\n",
    "df.loc[df['city'] == 'UNION CITY'] = 'Union City'"
   ]
  },
  {
   "cell_type": "code",
   "execution_count": 19,
   "metadata": {},
   "outputs": [],
   "source": [
    "df = df[df.city != 'North Bergen']\n",
    "df = df[df.city != 'West New York']"
   ]
  },
  {
   "cell_type": "code",
   "execution_count": 20,
   "metadata": {},
   "outputs": [
    {
     "data": {
      "text/plain": [
       "Jersey City    632\n",
       "Hoboken        500\n",
       "Union City     213\n",
       "Name: city, dtype: int64"
      ]
     },
     "execution_count": 20,
     "metadata": {},
     "output_type": "execute_result"
    }
   ],
   "source": [
    "df['city'].value_counts()"
   ]
  },
  {
   "cell_type": "code",
   "execution_count": 21,
   "metadata": {},
   "outputs": [
    {
     "data": {
      "text/plain": [
       "0              722\n",
       "1              459\n",
       "1901            32\n",
       "1910            10\n",
       "1900             8\n",
       "1920             7\n",
       "2006             6\n",
       "2005             6\n",
       "Hoboken          5\n",
       "2000             4\n",
       "2015             4\n",
       "1987             4\n",
       "2008             4\n",
       "1921             3\n",
       "1985             3\n",
       "1990             3\n",
       "2002             3\n",
       "2014             3\n",
       "1930             3\n",
       "1907             2\n",
       "2016             2\n",
       "1898             2\n",
       "1897             2\n",
       "1892             2\n",
       "1890             2\n",
       "1889             2\n",
       "1924             2\n",
       "1928             2\n",
       "2017             2\n",
       "2007             2\n",
       "1950             2\n",
       "2013             2\n",
       "1960             2\n",
       "Jersey City      2\n",
       "2010             2\n",
       "2009             2\n",
       "2004             2\n",
       "1940             1\n",
       "1800             1\n",
       "1970             1\n",
       "Union City       1\n",
       "1880             1\n",
       "1887             1\n",
       "2012             1\n",
       "2011             1\n",
       "2001             1\n",
       "1929             1\n",
       "1905             1\n",
       "1999             1\n",
       "1908             1\n",
       "1989             1\n",
       "1913             1\n",
       "1916             1\n",
       "1917             1\n",
       "1973             1\n",
       "1925             1\n",
       "1932             1\n",
       "Name: year_built, dtype: int64"
      ]
     },
     "execution_count": 21,
     "metadata": {},
     "output_type": "execute_result"
    }
   ],
   "source": [
    "df['year_built'].value_counts()"
   ]
  },
  {
   "cell_type": "code",
   "execution_count": 22,
   "metadata": {},
   "outputs": [
    {
     "data": {
      "text/plain": [
       "None                 722\n",
       "APARTMENT            491\n",
       "MULTI_FAMILY          76\n",
       "CONDO                 29\n",
       "TOWNHOUSE             12\n",
       "SINGLE_FAMILY          6\n",
       "Hoboken                5\n",
       "Jersey City            2\n",
       "HOME_TYPE_UNKNOWN      1\n",
       "Union City             1\n",
       "Name: home_type, dtype: int64"
      ]
     },
     "execution_count": 22,
     "metadata": {},
     "output_type": "execute_result"
    }
   ],
   "source": [
    "df['home_type'].value_counts()"
   ]
  },
  {
   "cell_type": "code",
   "execution_count": 23,
   "metadata": {},
   "outputs": [],
   "source": [
    "df.to_csv('clean_data.csv')"
   ]
  }
 ],
 "metadata": {
  "kernelspec": {
   "display_name": "Python 3",
   "language": "python",
   "name": "python3"
  },
  "language_info": {
   "codemirror_mode": {
    "name": "ipython",
    "version": 3
   },
   "file_extension": ".py",
   "mimetype": "text/x-python",
   "name": "python",
   "nbconvert_exporter": "python",
   "pygments_lexer": "ipython3",
   "version": "3.7.2"
  }
 },
 "nbformat": 4,
 "nbformat_minor": 2
}
