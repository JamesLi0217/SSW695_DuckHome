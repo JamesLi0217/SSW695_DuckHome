{
 "cells": [
  {
   "cell_type": "code",
   "execution_count": 1,
   "metadata": {},
   "outputs": [],
   "source": [
    "import pandas as pd\n",
    "import numpy as np"
   ]
  },
  {
   "cell_type": "code",
   "execution_count": 2,
   "metadata": {},
   "outputs": [],
   "source": [
    "df = pd.read_csv('City_Zri_AllHomesPlusMultifamily.csv', encoding=\"ISO-8859-1\")"
   ]
  },
  {
   "cell_type": "code",
   "execution_count": 3,
   "metadata": {},
   "outputs": [
    {
     "data": {
      "text/html": [
       "<div>\n",
       "<style scoped>\n",
       "    .dataframe tbody tr th:only-of-type {\n",
       "        vertical-align: middle;\n",
       "    }\n",
       "\n",
       "    .dataframe tbody tr th {\n",
       "        vertical-align: top;\n",
       "    }\n",
       "\n",
       "    .dataframe thead th {\n",
       "        text-align: right;\n",
       "    }\n",
       "</style>\n",
       "<table border=\"1\" class=\"dataframe\">\n",
       "  <thead>\n",
       "    <tr style=\"text-align: right;\">\n",
       "      <th></th>\n",
       "      <th>RegionID</th>\n",
       "      <th>RegionName</th>\n",
       "      <th>State</th>\n",
       "      <th>Metro</th>\n",
       "      <th>CountyName</th>\n",
       "      <th>SizeRank</th>\n",
       "      <th>2010-11</th>\n",
       "      <th>2010-12</th>\n",
       "      <th>2011-01</th>\n",
       "      <th>2011-02</th>\n",
       "      <th>...</th>\n",
       "      <th>2018-04</th>\n",
       "      <th>2018-05</th>\n",
       "      <th>2018-06</th>\n",
       "      <th>2018-07</th>\n",
       "      <th>2018-08</th>\n",
       "      <th>2018-09</th>\n",
       "      <th>2018-10</th>\n",
       "      <th>2018-11</th>\n",
       "      <th>2018-12</th>\n",
       "      <th>2019-01</th>\n",
       "    </tr>\n",
       "  </thead>\n",
       "  <tbody>\n",
       "    <tr>\n",
       "      <th>5425</th>\n",
       "      <td>53703</td>\n",
       "      <td>Old Lyme</td>\n",
       "      <td>CT</td>\n",
       "      <td>Norwich-New London</td>\n",
       "      <td>New London County</td>\n",
       "      <td>5426</td>\n",
       "      <td>1581.0</td>\n",
       "      <td>1575.0</td>\n",
       "      <td>1586.0</td>\n",
       "      <td>1598.0</td>\n",
       "      <td>...</td>\n",
       "      <td>1621</td>\n",
       "      <td>1632</td>\n",
       "      <td>1634</td>\n",
       "      <td>1626</td>\n",
       "      <td>1616</td>\n",
       "      <td>1606</td>\n",
       "      <td>1603</td>\n",
       "      <td>1610</td>\n",
       "      <td>1631</td>\n",
       "      <td>1656</td>\n",
       "    </tr>\n",
       "    <tr>\n",
       "      <th>7235</th>\n",
       "      <td>10212</td>\n",
       "      <td>Augusta</td>\n",
       "      <td>WI</td>\n",
       "      <td>Eau Claire</td>\n",
       "      <td>Eau Claire County</td>\n",
       "      <td>7236</td>\n",
       "      <td>NaN</td>\n",
       "      <td>NaN</td>\n",
       "      <td>NaN</td>\n",
       "      <td>NaN</td>\n",
       "      <td>...</td>\n",
       "      <td>1108</td>\n",
       "      <td>1079</td>\n",
       "      <td>1052</td>\n",
       "      <td>1023</td>\n",
       "      <td>1006</td>\n",
       "      <td>1000</td>\n",
       "      <td>1003</td>\n",
       "      <td>1027</td>\n",
       "      <td>1060</td>\n",
       "      <td>1090</td>\n",
       "    </tr>\n",
       "    <tr>\n",
       "      <th>4201</th>\n",
       "      <td>25599</td>\n",
       "      <td>Lincoln Park</td>\n",
       "      <td>NJ</td>\n",
       "      <td>New York-Newark-Jersey City</td>\n",
       "      <td>Morris County</td>\n",
       "      <td>4202</td>\n",
       "      <td>2511.0</td>\n",
       "      <td>2371.0</td>\n",
       "      <td>2292.0</td>\n",
       "      <td>2246.0</td>\n",
       "      <td>...</td>\n",
       "      <td>2415</td>\n",
       "      <td>2431</td>\n",
       "      <td>2440</td>\n",
       "      <td>2444</td>\n",
       "      <td>2446</td>\n",
       "      <td>2447</td>\n",
       "      <td>2446</td>\n",
       "      <td>2432</td>\n",
       "      <td>2402</td>\n",
       "      <td>2363</td>\n",
       "    </tr>\n",
       "    <tr>\n",
       "      <th>11774</th>\n",
       "      <td>55106</td>\n",
       "      <td>West Fairview</td>\n",
       "      <td>PA</td>\n",
       "      <td>Harrisburg-Carlisle</td>\n",
       "      <td>Cumberland County</td>\n",
       "      <td>11775</td>\n",
       "      <td>976.0</td>\n",
       "      <td>976.0</td>\n",
       "      <td>974.0</td>\n",
       "      <td>978.0</td>\n",
       "      <td>...</td>\n",
       "      <td>988</td>\n",
       "      <td>989</td>\n",
       "      <td>988</td>\n",
       "      <td>986</td>\n",
       "      <td>984</td>\n",
       "      <td>983</td>\n",
       "      <td>985</td>\n",
       "      <td>995</td>\n",
       "      <td>1015</td>\n",
       "      <td>1039</td>\n",
       "    </tr>\n",
       "    <tr>\n",
       "      <th>7515</th>\n",
       "      <td>53440</td>\n",
       "      <td>Mount Pleasant</td>\n",
       "      <td>PA</td>\n",
       "      <td>Pittsburgh</td>\n",
       "      <td>Westmoreland County</td>\n",
       "      <td>7516</td>\n",
       "      <td>925.0</td>\n",
       "      <td>932.0</td>\n",
       "      <td>927.0</td>\n",
       "      <td>920.0</td>\n",
       "      <td>...</td>\n",
       "      <td>857</td>\n",
       "      <td>853</td>\n",
       "      <td>850</td>\n",
       "      <td>849</td>\n",
       "      <td>848</td>\n",
       "      <td>847</td>\n",
       "      <td>846</td>\n",
       "      <td>837</td>\n",
       "      <td>828</td>\n",
       "      <td>821</td>\n",
       "    </tr>\n",
       "  </tbody>\n",
       "</table>\n",
       "<p>5 rows × 105 columns</p>\n",
       "</div>"
      ],
      "text/plain": [
       "       RegionID      RegionName State                        Metro  \\\n",
       "5425      53703        Old Lyme    CT           Norwich-New London   \n",
       "7235      10212         Augusta    WI                   Eau Claire   \n",
       "4201      25599    Lincoln Park    NJ  New York-Newark-Jersey City   \n",
       "11774     55106   West Fairview    PA          Harrisburg-Carlisle   \n",
       "7515      53440  Mount Pleasant    PA                   Pittsburgh   \n",
       "\n",
       "                CountyName  SizeRank  2010-11  2010-12  2011-01  2011-02  ...  \\\n",
       "5425     New London County      5426   1581.0   1575.0   1586.0   1598.0  ...   \n",
       "7235     Eau Claire County      7236      NaN      NaN      NaN      NaN  ...   \n",
       "4201         Morris County      4202   2511.0   2371.0   2292.0   2246.0  ...   \n",
       "11774    Cumberland County     11775    976.0    976.0    974.0    978.0  ...   \n",
       "7515   Westmoreland County      7516    925.0    932.0    927.0    920.0  ...   \n",
       "\n",
       "       2018-04  2018-05  2018-06  2018-07  2018-08  2018-09  2018-10  2018-11  \\\n",
       "5425      1621     1632     1634     1626     1616     1606     1603     1610   \n",
       "7235      1108     1079     1052     1023     1006     1000     1003     1027   \n",
       "4201      2415     2431     2440     2444     2446     2447     2446     2432   \n",
       "11774      988      989      988      986      984      983      985      995   \n",
       "7515       857      853      850      849      848      847      846      837   \n",
       "\n",
       "       2018-12  2019-01  \n",
       "5425      1631     1656  \n",
       "7235      1060     1090  \n",
       "4201      2402     2363  \n",
       "11774     1015     1039  \n",
       "7515       828      821  \n",
       "\n",
       "[5 rows x 105 columns]"
      ]
     },
     "execution_count": 3,
     "metadata": {},
     "output_type": "execute_result"
    }
   ],
   "source": [
    "df.sample(5)"
   ]
  },
  {
   "cell_type": "code",
   "execution_count": 4,
   "metadata": {},
   "outputs": [],
   "source": [
    "df_Hoboken = df[df['RegionName'] == 'Hoboken']"
   ]
  },
  {
   "cell_type": "code",
   "execution_count": 5,
   "metadata": {},
   "outputs": [],
   "source": [
    "df_Hoboken = df_Hoboken.iloc[:, 6:]"
   ]
  },
  {
   "cell_type": "code",
   "execution_count": 6,
   "metadata": {},
   "outputs": [],
   "source": [
    "df_Hoboken = df_Hoboken.T"
   ]
  },
  {
   "cell_type": "code",
   "execution_count": 7,
   "metadata": {},
   "outputs": [],
   "source": [
    "df_Hoboken = df_Hoboken.reset_index()"
   ]
  },
  {
   "cell_type": "code",
   "execution_count": 8,
   "metadata": {},
   "outputs": [],
   "source": [
    "df_Hoboken = df_Hoboken.rename(columns={'index':'date', 903:'price'})"
   ]
  },
  {
   "cell_type": "code",
   "execution_count": 9,
   "metadata": {},
   "outputs": [
    {
     "data": {
      "text/html": [
       "<div>\n",
       "<style scoped>\n",
       "    .dataframe tbody tr th:only-of-type {\n",
       "        vertical-align: middle;\n",
       "    }\n",
       "\n",
       "    .dataframe tbody tr th {\n",
       "        vertical-align: top;\n",
       "    }\n",
       "\n",
       "    .dataframe thead th {\n",
       "        text-align: right;\n",
       "    }\n",
       "</style>\n",
       "<table border=\"1\" class=\"dataframe\">\n",
       "  <thead>\n",
       "    <tr style=\"text-align: right;\">\n",
       "      <th></th>\n",
       "      <th>date</th>\n",
       "      <th>price</th>\n",
       "    </tr>\n",
       "  </thead>\n",
       "  <tbody>\n",
       "    <tr>\n",
       "      <th>0</th>\n",
       "      <td>2010-11</td>\n",
       "      <td>2534.0</td>\n",
       "    </tr>\n",
       "    <tr>\n",
       "      <th>1</th>\n",
       "      <td>2010-12</td>\n",
       "      <td>2553.0</td>\n",
       "    </tr>\n",
       "    <tr>\n",
       "      <th>2</th>\n",
       "      <td>2011-01</td>\n",
       "      <td>2553.0</td>\n",
       "    </tr>\n",
       "    <tr>\n",
       "      <th>3</th>\n",
       "      <td>2011-02</td>\n",
       "      <td>2539.0</td>\n",
       "    </tr>\n",
       "    <tr>\n",
       "      <th>4</th>\n",
       "      <td>2011-03</td>\n",
       "      <td>2525.0</td>\n",
       "    </tr>\n",
       "  </tbody>\n",
       "</table>\n",
       "</div>"
      ],
      "text/plain": [
       "      date   price\n",
       "0  2010-11  2534.0\n",
       "1  2010-12  2553.0\n",
       "2  2011-01  2553.0\n",
       "3  2011-02  2539.0\n",
       "4  2011-03  2525.0"
      ]
     },
     "execution_count": 9,
     "metadata": {},
     "output_type": "execute_result"
    }
   ],
   "source": [
    "df_Hoboken.head()"
   ]
  },
  {
   "cell_type": "code",
   "execution_count": 10,
   "metadata": {},
   "outputs": [],
   "source": [
    "df_UnionCity = df[(df['RegionName'] == 'Union City') & (df['State'] == 'NJ')]"
   ]
  },
  {
   "cell_type": "code",
   "execution_count": 11,
   "metadata": {},
   "outputs": [],
   "source": [
    "df_UnionCity = df_UnionCity.iloc[:, 6:]"
   ]
  },
  {
   "cell_type": "code",
   "execution_count": 12,
   "metadata": {},
   "outputs": [],
   "source": [
    "df_UnionCity = df_UnionCity.T"
   ]
  },
  {
   "cell_type": "code",
   "execution_count": 13,
   "metadata": {},
   "outputs": [],
   "source": [
    "df_UnionCity = df_UnionCity.reset_index()"
   ]
  },
  {
   "cell_type": "code",
   "execution_count": 14,
   "metadata": {},
   "outputs": [],
   "source": [
    "df_UnionCity = df_UnionCity.rename(columns={'index':'date', 650:'price'})"
   ]
  },
  {
   "cell_type": "code",
   "execution_count": 15,
   "metadata": {},
   "outputs": [
    {
     "data": {
      "text/html": [
       "<div>\n",
       "<style scoped>\n",
       "    .dataframe tbody tr th:only-of-type {\n",
       "        vertical-align: middle;\n",
       "    }\n",
       "\n",
       "    .dataframe tbody tr th {\n",
       "        vertical-align: top;\n",
       "    }\n",
       "\n",
       "    .dataframe thead th {\n",
       "        text-align: right;\n",
       "    }\n",
       "</style>\n",
       "<table border=\"1\" class=\"dataframe\">\n",
       "  <thead>\n",
       "    <tr style=\"text-align: right;\">\n",
       "      <th></th>\n",
       "      <th>date</th>\n",
       "      <th>price</th>\n",
       "    </tr>\n",
       "  </thead>\n",
       "  <tbody>\n",
       "    <tr>\n",
       "      <th>0</th>\n",
       "      <td>2010-11</td>\n",
       "      <td>1864.0</td>\n",
       "    </tr>\n",
       "    <tr>\n",
       "      <th>1</th>\n",
       "      <td>2010-12</td>\n",
       "      <td>1841.0</td>\n",
       "    </tr>\n",
       "    <tr>\n",
       "      <th>2</th>\n",
       "      <td>2011-01</td>\n",
       "      <td>1830.0</td>\n",
       "    </tr>\n",
       "    <tr>\n",
       "      <th>3</th>\n",
       "      <td>2011-02</td>\n",
       "      <td>1827.0</td>\n",
       "    </tr>\n",
       "    <tr>\n",
       "      <th>4</th>\n",
       "      <td>2011-03</td>\n",
       "      <td>1828.0</td>\n",
       "    </tr>\n",
       "  </tbody>\n",
       "</table>\n",
       "</div>"
      ],
      "text/plain": [
       "      date   price\n",
       "0  2010-11  1864.0\n",
       "1  2010-12  1841.0\n",
       "2  2011-01  1830.0\n",
       "3  2011-02  1827.0\n",
       "4  2011-03  1828.0"
      ]
     },
     "execution_count": 15,
     "metadata": {},
     "output_type": "execute_result"
    }
   ],
   "source": [
    "df_UnionCity.head()"
   ]
  },
  {
   "cell_type": "code",
   "execution_count": 16,
   "metadata": {},
   "outputs": [],
   "source": [
    "df_JerseyCity = df[df['RegionName'] == 'Jersey City']"
   ]
  },
  {
   "cell_type": "code",
   "execution_count": 17,
   "metadata": {},
   "outputs": [],
   "source": [
    "df_JerseyCity = df_JerseyCity.iloc[:, 6:]"
   ]
  },
  {
   "cell_type": "code",
   "execution_count": 18,
   "metadata": {},
   "outputs": [],
   "source": [
    "df_JerseyCity = df_JerseyCity.T"
   ]
  },
  {
   "cell_type": "code",
   "execution_count": 19,
   "metadata": {},
   "outputs": [],
   "source": [
    "df_JerseyCity = df_JerseyCity.reset_index()"
   ]
  },
  {
   "cell_type": "code",
   "execution_count": 20,
   "metadata": {},
   "outputs": [],
   "source": [
    "df_JerseyCity = df_JerseyCity.rename(columns={'index':'date', 75:'price'})"
   ]
  },
  {
   "cell_type": "code",
   "execution_count": 21,
   "metadata": {},
   "outputs": [
    {
     "data": {
      "text/html": [
       "<div>\n",
       "<style scoped>\n",
       "    .dataframe tbody tr th:only-of-type {\n",
       "        vertical-align: middle;\n",
       "    }\n",
       "\n",
       "    .dataframe tbody tr th {\n",
       "        vertical-align: top;\n",
       "    }\n",
       "\n",
       "    .dataframe thead th {\n",
       "        text-align: right;\n",
       "    }\n",
       "</style>\n",
       "<table border=\"1\" class=\"dataframe\">\n",
       "  <thead>\n",
       "    <tr style=\"text-align: right;\">\n",
       "      <th></th>\n",
       "      <th>date</th>\n",
       "      <th>price</th>\n",
       "    </tr>\n",
       "  </thead>\n",
       "  <tbody>\n",
       "    <tr>\n",
       "      <th>0</th>\n",
       "      <td>2010-11</td>\n",
       "      <td>1787.0</td>\n",
       "    </tr>\n",
       "    <tr>\n",
       "      <th>1</th>\n",
       "      <td>2010-12</td>\n",
       "      <td>1812.0</td>\n",
       "    </tr>\n",
       "    <tr>\n",
       "      <th>2</th>\n",
       "      <td>2011-01</td>\n",
       "      <td>1822.0</td>\n",
       "    </tr>\n",
       "    <tr>\n",
       "      <th>3</th>\n",
       "      <td>2011-02</td>\n",
       "      <td>1827.0</td>\n",
       "    </tr>\n",
       "    <tr>\n",
       "      <th>4</th>\n",
       "      <td>2011-03</td>\n",
       "      <td>1846.0</td>\n",
       "    </tr>\n",
       "  </tbody>\n",
       "</table>\n",
       "</div>"
      ],
      "text/plain": [
       "      date   price\n",
       "0  2010-11  1787.0\n",
       "1  2010-12  1812.0\n",
       "2  2011-01  1822.0\n",
       "3  2011-02  1827.0\n",
       "4  2011-03  1846.0"
      ]
     },
     "execution_count": 21,
     "metadata": {},
     "output_type": "execute_result"
    }
   ],
   "source": [
    "df_JerseyCity.head()"
   ]
  },
  {
   "cell_type": "code",
   "execution_count": 22,
   "metadata": {},
   "outputs": [],
   "source": [
    "df_Hoboken.to_csv('Hoboken_price.csv', index=False)"
   ]
  },
  {
   "cell_type": "code",
   "execution_count": 23,
   "metadata": {},
   "outputs": [],
   "source": [
    "df_UnionCity.to_csv('UnionCity_price.csv', index=False)"
   ]
  },
  {
   "cell_type": "code",
   "execution_count": 24,
   "metadata": {},
   "outputs": [],
   "source": [
    "df_JerseyCity.to_csv('JerseyCity_price.csv', index=False)"
   ]
  }
 ],
 "metadata": {
  "kernelspec": {
   "display_name": "Python 3",
   "language": "python",
   "name": "python3"
  },
  "language_info": {
   "codemirror_mode": {
    "name": "ipython",
    "version": 3
   },
   "file_extension": ".py",
   "mimetype": "text/x-python",
   "name": "python",
   "nbconvert_exporter": "python",
   "pygments_lexer": "ipython3",
   "version": "3.7.2"
  }
 },
 "nbformat": 4,
 "nbformat_minor": 2
}
