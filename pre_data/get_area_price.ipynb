{
 "cells": [
  {
   "cell_type": "code",
   "execution_count": 1,
   "metadata": {},
   "outputs": [],
   "source": [
    "import pandas as pd\n",
    "import numpy as np"
   ]
  },
  {
   "cell_type": "code",
   "execution_count": 2,
   "metadata": {},
   "outputs": [],
   "source": [
    "df = pd.read_csv('City_Zri_AllHomesPlusMultifamily.csv', encoding=\"ISO-8859-1\")"
   ]
  },
  {
   "cell_type": "code",
   "execution_count": 3,
   "metadata": {},
   "outputs": [
    {
     "data": {
      "text/html": [
       "<div>\n",
       "<style scoped>\n",
       "    .dataframe tbody tr th:only-of-type {\n",
       "        vertical-align: middle;\n",
       "    }\n",
       "\n",
       "    .dataframe tbody tr th {\n",
       "        vertical-align: top;\n",
       "    }\n",
       "\n",
       "    .dataframe thead th {\n",
       "        text-align: right;\n",
       "    }\n",
       "</style>\n",
       "<table border=\"1\" class=\"dataframe\">\n",
       "  <thead>\n",
       "    <tr style=\"text-align: right;\">\n",
       "      <th></th>\n",
       "      <th>RegionID</th>\n",
       "      <th>RegionName</th>\n",
       "      <th>State</th>\n",
       "      <th>Metro</th>\n",
       "      <th>CountyName</th>\n",
       "      <th>SizeRank</th>\n",
       "      <th>2010-11</th>\n",
       "      <th>2010-12</th>\n",
       "      <th>2011-01</th>\n",
       "      <th>2011-02</th>\n",
       "      <th>...</th>\n",
       "      <th>2018-04</th>\n",
       "      <th>2018-05</th>\n",
       "      <th>2018-06</th>\n",
       "      <th>2018-07</th>\n",
       "      <th>2018-08</th>\n",
       "      <th>2018-09</th>\n",
       "      <th>2018-10</th>\n",
       "      <th>2018-11</th>\n",
       "      <th>2018-12</th>\n",
       "      <th>2019-01</th>\n",
       "    </tr>\n",
       "  </thead>\n",
       "  <tbody>\n",
       "    <tr>\n",
       "      <th>2937</th>\n",
       "      <td>10197</td>\n",
       "      <td>Aston</td>\n",
       "      <td>PA</td>\n",
       "      <td>Philadelphia-Camden-Wilmington</td>\n",
       "      <td>Delaware County</td>\n",
       "      <td>2938</td>\n",
       "      <td>1465.0</td>\n",
       "      <td>1478.0</td>\n",
       "      <td>1491.0</td>\n",
       "      <td>1507.0</td>\n",
       "      <td>...</td>\n",
       "      <td>1732</td>\n",
       "      <td>1740</td>\n",
       "      <td>1740</td>\n",
       "      <td>1740</td>\n",
       "      <td>1740</td>\n",
       "      <td>1740</td>\n",
       "      <td>1742</td>\n",
       "      <td>1737</td>\n",
       "      <td>1726</td>\n",
       "      <td>1711</td>\n",
       "    </tr>\n",
       "    <tr>\n",
       "      <th>10491</th>\n",
       "      <td>31349</td>\n",
       "      <td>Eaton</td>\n",
       "      <td>CO</td>\n",
       "      <td>Greeley</td>\n",
       "      <td>Weld County</td>\n",
       "      <td>10492</td>\n",
       "      <td>NaN</td>\n",
       "      <td>NaN</td>\n",
       "      <td>NaN</td>\n",
       "      <td>NaN</td>\n",
       "      <td>...</td>\n",
       "      <td>1680</td>\n",
       "      <td>1704</td>\n",
       "      <td>1719</td>\n",
       "      <td>1732</td>\n",
       "      <td>1738</td>\n",
       "      <td>1740</td>\n",
       "      <td>1740</td>\n",
       "      <td>1737</td>\n",
       "      <td>1733</td>\n",
       "      <td>1729</td>\n",
       "    </tr>\n",
       "    <tr>\n",
       "      <th>783</th>\n",
       "      <td>17310</td>\n",
       "      <td>Carmichael</td>\n",
       "      <td>CA</td>\n",
       "      <td>Sacramento--Roseville--Arden-Arcade</td>\n",
       "      <td>Sacramento County</td>\n",
       "      <td>784</td>\n",
       "      <td>1475.0</td>\n",
       "      <td>1468.0</td>\n",
       "      <td>1454.0</td>\n",
       "      <td>1459.0</td>\n",
       "      <td>...</td>\n",
       "      <td>1830</td>\n",
       "      <td>1825</td>\n",
       "      <td>1821</td>\n",
       "      <td>1818</td>\n",
       "      <td>1818</td>\n",
       "      <td>1820</td>\n",
       "      <td>1827</td>\n",
       "      <td>1843</td>\n",
       "      <td>1863</td>\n",
       "      <td>1882</td>\n",
       "    </tr>\n",
       "    <tr>\n",
       "      <th>492</th>\n",
       "      <td>37736</td>\n",
       "      <td>Canton</td>\n",
       "      <td>GA</td>\n",
       "      <td>Atlanta-Sandy Springs-Roswell</td>\n",
       "      <td>Cherokee County</td>\n",
       "      <td>493</td>\n",
       "      <td>1298.0</td>\n",
       "      <td>1297.0</td>\n",
       "      <td>1299.0</td>\n",
       "      <td>1303.0</td>\n",
       "      <td>...</td>\n",
       "      <td>1541</td>\n",
       "      <td>1538</td>\n",
       "      <td>1537</td>\n",
       "      <td>1537</td>\n",
       "      <td>1537</td>\n",
       "      <td>1537</td>\n",
       "      <td>1543</td>\n",
       "      <td>1562</td>\n",
       "      <td>1582</td>\n",
       "      <td>1598</td>\n",
       "    </tr>\n",
       "    <tr>\n",
       "      <th>1651</th>\n",
       "      <td>4560</td>\n",
       "      <td>Ellensburg</td>\n",
       "      <td>WA</td>\n",
       "      <td>Ellensburg</td>\n",
       "      <td>Kittitas County</td>\n",
       "      <td>1652</td>\n",
       "      <td>1282.0</td>\n",
       "      <td>1276.0</td>\n",
       "      <td>1275.0</td>\n",
       "      <td>1274.0</td>\n",
       "      <td>...</td>\n",
       "      <td>1520</td>\n",
       "      <td>1540</td>\n",
       "      <td>1556</td>\n",
       "      <td>1567</td>\n",
       "      <td>1570</td>\n",
       "      <td>1569</td>\n",
       "      <td>1571</td>\n",
       "      <td>1582</td>\n",
       "      <td>1591</td>\n",
       "      <td>1592</td>\n",
       "    </tr>\n",
       "  </tbody>\n",
       "</table>\n",
       "<p>5 rows × 105 columns</p>\n",
       "</div>"
      ],
      "text/plain": [
       "       RegionID  RegionName State                                Metro  \\\n",
       "2937      10197       Aston    PA       Philadelphia-Camden-Wilmington   \n",
       "10491     31349       Eaton    CO                              Greeley   \n",
       "783       17310  Carmichael    CA  Sacramento--Roseville--Arden-Arcade   \n",
       "492       37736      Canton    GA        Atlanta-Sandy Springs-Roswell   \n",
       "1651       4560  Ellensburg    WA                           Ellensburg   \n",
       "\n",
       "              CountyName  SizeRank  2010-11  2010-12  2011-01  2011-02  ...  \\\n",
       "2937     Delaware County      2938   1465.0   1478.0   1491.0   1507.0  ...   \n",
       "10491        Weld County     10492      NaN      NaN      NaN      NaN  ...   \n",
       "783    Sacramento County       784   1475.0   1468.0   1454.0   1459.0  ...   \n",
       "492      Cherokee County       493   1298.0   1297.0   1299.0   1303.0  ...   \n",
       "1651     Kittitas County      1652   1282.0   1276.0   1275.0   1274.0  ...   \n",
       "\n",
       "       2018-04  2018-05  2018-06  2018-07  2018-08  2018-09  2018-10  2018-11  \\\n",
       "2937      1732     1740     1740     1740     1740     1740     1742     1737   \n",
       "10491     1680     1704     1719     1732     1738     1740     1740     1737   \n",
       "783       1830     1825     1821     1818     1818     1820     1827     1843   \n",
       "492       1541     1538     1537     1537     1537     1537     1543     1562   \n",
       "1651      1520     1540     1556     1567     1570     1569     1571     1582   \n",
       "\n",
       "       2018-12  2019-01  \n",
       "2937      1726     1711  \n",
       "10491     1733     1729  \n",
       "783       1863     1882  \n",
       "492       1582     1598  \n",
       "1651      1591     1592  \n",
       "\n",
       "[5 rows x 105 columns]"
      ]
     },
     "execution_count": 3,
     "metadata": {},
     "output_type": "execute_result"
    }
   ],
   "source": [
    "df.sample(5)"
   ]
  },
  {
   "cell_type": "code",
   "execution_count": 4,
   "metadata": {},
   "outputs": [],
   "source": [
    "df_Hoboken = df[df['RegionName'] == 'Hoboken']"
   ]
  },
  {
   "cell_type": "code",
   "execution_count": 5,
   "metadata": {},
   "outputs": [],
   "source": [
    "df_Hoboken = df_Hoboken.iloc[:, 6:]"
   ]
  },
  {
   "cell_type": "code",
   "execution_count": 6,
   "metadata": {},
   "outputs": [],
   "source": [
    "df_Hoboken = df_Hoboken.T"
   ]
  },
  {
   "cell_type": "code",
   "execution_count": 7,
   "metadata": {},
   "outputs": [],
   "source": [
    "df_Hoboken = df_Hoboken.reset_index()"
   ]
  },
  {
   "cell_type": "code",
   "execution_count": 8,
   "metadata": {},
   "outputs": [],
   "source": [
    "df_Hoboken = df_Hoboken.rename(columns={'index':'date', 903:'price'})"
   ]
  },
  {
   "cell_type": "code",
   "execution_count": 9,
   "metadata": {},
   "outputs": [],
   "source": [
    "df_Hoboken['date'] = pd.to_datetime(df_Hoboken['date'], format='%Y-%m')"
   ]
  },
  {
   "cell_type": "code",
   "execution_count": 10,
   "metadata": {},
   "outputs": [
    {
     "data": {
      "text/html": [
       "<div>\n",
       "<style scoped>\n",
       "    .dataframe tbody tr th:only-of-type {\n",
       "        vertical-align: middle;\n",
       "    }\n",
       "\n",
       "    .dataframe tbody tr th {\n",
       "        vertical-align: top;\n",
       "    }\n",
       "\n",
       "    .dataframe thead th {\n",
       "        text-align: right;\n",
       "    }\n",
       "</style>\n",
       "<table border=\"1\" class=\"dataframe\">\n",
       "  <thead>\n",
       "    <tr style=\"text-align: right;\">\n",
       "      <th></th>\n",
       "      <th>date</th>\n",
       "      <th>price</th>\n",
       "    </tr>\n",
       "  </thead>\n",
       "  <tbody>\n",
       "    <tr>\n",
       "      <th>0</th>\n",
       "      <td>2010-11-01</td>\n",
       "      <td>2534.0</td>\n",
       "    </tr>\n",
       "    <tr>\n",
       "      <th>1</th>\n",
       "      <td>2010-12-01</td>\n",
       "      <td>2553.0</td>\n",
       "    </tr>\n",
       "    <tr>\n",
       "      <th>2</th>\n",
       "      <td>2011-01-01</td>\n",
       "      <td>2553.0</td>\n",
       "    </tr>\n",
       "    <tr>\n",
       "      <th>3</th>\n",
       "      <td>2011-02-01</td>\n",
       "      <td>2539.0</td>\n",
       "    </tr>\n",
       "    <tr>\n",
       "      <th>4</th>\n",
       "      <td>2011-03-01</td>\n",
       "      <td>2525.0</td>\n",
       "    </tr>\n",
       "  </tbody>\n",
       "</table>\n",
       "</div>"
      ],
      "text/plain": [
       "        date   price\n",
       "0 2010-11-01  2534.0\n",
       "1 2010-12-01  2553.0\n",
       "2 2011-01-01  2553.0\n",
       "3 2011-02-01  2539.0\n",
       "4 2011-03-01  2525.0"
      ]
     },
     "execution_count": 10,
     "metadata": {},
     "output_type": "execute_result"
    }
   ],
   "source": [
    "df_Hoboken.head()"
   ]
  },
  {
   "cell_type": "code",
   "execution_count": 11,
   "metadata": {},
   "outputs": [],
   "source": [
    "df_UnionCity = df[(df['RegionName'] == 'Union City') & (df['State'] == 'NJ')]"
   ]
  },
  {
   "cell_type": "code",
   "execution_count": 12,
   "metadata": {},
   "outputs": [],
   "source": [
    "df_UnionCity = df_UnionCity.iloc[:, 6:]"
   ]
  },
  {
   "cell_type": "code",
   "execution_count": 13,
   "metadata": {},
   "outputs": [],
   "source": [
    "df_UnionCity = df_UnionCity.T"
   ]
  },
  {
   "cell_type": "code",
   "execution_count": 14,
   "metadata": {},
   "outputs": [],
   "source": [
    "df_UnionCity = df_UnionCity.reset_index()"
   ]
  },
  {
   "cell_type": "code",
   "execution_count": 15,
   "metadata": {},
   "outputs": [],
   "source": [
    "df_UnionCity = df_UnionCity.rename(columns={'index':'date', 650:'price'})"
   ]
  },
  {
   "cell_type": "code",
   "execution_count": 16,
   "metadata": {},
   "outputs": [],
   "source": [
    "df_UnionCity['date'] = pd.to_datetime(df_UnionCity['date'], format='%Y-%m')"
   ]
  },
  {
   "cell_type": "code",
   "execution_count": 17,
   "metadata": {},
   "outputs": [
    {
     "data": {
      "text/html": [
       "<div>\n",
       "<style scoped>\n",
       "    .dataframe tbody tr th:only-of-type {\n",
       "        vertical-align: middle;\n",
       "    }\n",
       "\n",
       "    .dataframe tbody tr th {\n",
       "        vertical-align: top;\n",
       "    }\n",
       "\n",
       "    .dataframe thead th {\n",
       "        text-align: right;\n",
       "    }\n",
       "</style>\n",
       "<table border=\"1\" class=\"dataframe\">\n",
       "  <thead>\n",
       "    <tr style=\"text-align: right;\">\n",
       "      <th></th>\n",
       "      <th>date</th>\n",
       "      <th>price</th>\n",
       "    </tr>\n",
       "  </thead>\n",
       "  <tbody>\n",
       "    <tr>\n",
       "      <th>0</th>\n",
       "      <td>2010-11-01</td>\n",
       "      <td>1864.0</td>\n",
       "    </tr>\n",
       "    <tr>\n",
       "      <th>1</th>\n",
       "      <td>2010-12-01</td>\n",
       "      <td>1841.0</td>\n",
       "    </tr>\n",
       "    <tr>\n",
       "      <th>2</th>\n",
       "      <td>2011-01-01</td>\n",
       "      <td>1830.0</td>\n",
       "    </tr>\n",
       "    <tr>\n",
       "      <th>3</th>\n",
       "      <td>2011-02-01</td>\n",
       "      <td>1827.0</td>\n",
       "    </tr>\n",
       "    <tr>\n",
       "      <th>4</th>\n",
       "      <td>2011-03-01</td>\n",
       "      <td>1828.0</td>\n",
       "    </tr>\n",
       "  </tbody>\n",
       "</table>\n",
       "</div>"
      ],
      "text/plain": [
       "        date   price\n",
       "0 2010-11-01  1864.0\n",
       "1 2010-12-01  1841.0\n",
       "2 2011-01-01  1830.0\n",
       "3 2011-02-01  1827.0\n",
       "4 2011-03-01  1828.0"
      ]
     },
     "execution_count": 17,
     "metadata": {},
     "output_type": "execute_result"
    }
   ],
   "source": [
    "df_UnionCity.head()"
   ]
  },
  {
   "cell_type": "code",
   "execution_count": 18,
   "metadata": {},
   "outputs": [],
   "source": [
    "df_JerseyCity = df[df['RegionName'] == 'Jersey City']"
   ]
  },
  {
   "cell_type": "code",
   "execution_count": 19,
   "metadata": {},
   "outputs": [],
   "source": [
    "df_JerseyCity = df_JerseyCity.iloc[:, 6:]"
   ]
  },
  {
   "cell_type": "code",
   "execution_count": 20,
   "metadata": {},
   "outputs": [],
   "source": [
    "df_JerseyCity = df_JerseyCity.T"
   ]
  },
  {
   "cell_type": "code",
   "execution_count": 21,
   "metadata": {},
   "outputs": [],
   "source": [
    "df_JerseyCity = df_JerseyCity.reset_index()"
   ]
  },
  {
   "cell_type": "code",
   "execution_count": 22,
   "metadata": {},
   "outputs": [],
   "source": [
    "df_JerseyCity = df_JerseyCity.rename(columns={'index':'date', 75:'price'})"
   ]
  },
  {
   "cell_type": "code",
   "execution_count": 23,
   "metadata": {},
   "outputs": [],
   "source": [
    "df_JerseyCity['date'] = pd.to_datetime(df_JerseyCity['date'], format='%Y-%m')"
   ]
  },
  {
   "cell_type": "code",
   "execution_count": 24,
   "metadata": {},
   "outputs": [
    {
     "data": {
      "text/html": [
       "<div>\n",
       "<style scoped>\n",
       "    .dataframe tbody tr th:only-of-type {\n",
       "        vertical-align: middle;\n",
       "    }\n",
       "\n",
       "    .dataframe tbody tr th {\n",
       "        vertical-align: top;\n",
       "    }\n",
       "\n",
       "    .dataframe thead th {\n",
       "        text-align: right;\n",
       "    }\n",
       "</style>\n",
       "<table border=\"1\" class=\"dataframe\">\n",
       "  <thead>\n",
       "    <tr style=\"text-align: right;\">\n",
       "      <th></th>\n",
       "      <th>date</th>\n",
       "      <th>price</th>\n",
       "    </tr>\n",
       "  </thead>\n",
       "  <tbody>\n",
       "    <tr>\n",
       "      <th>0</th>\n",
       "      <td>2010-11-01</td>\n",
       "      <td>1787.0</td>\n",
       "    </tr>\n",
       "    <tr>\n",
       "      <th>1</th>\n",
       "      <td>2010-12-01</td>\n",
       "      <td>1812.0</td>\n",
       "    </tr>\n",
       "    <tr>\n",
       "      <th>2</th>\n",
       "      <td>2011-01-01</td>\n",
       "      <td>1822.0</td>\n",
       "    </tr>\n",
       "    <tr>\n",
       "      <th>3</th>\n",
       "      <td>2011-02-01</td>\n",
       "      <td>1827.0</td>\n",
       "    </tr>\n",
       "    <tr>\n",
       "      <th>4</th>\n",
       "      <td>2011-03-01</td>\n",
       "      <td>1846.0</td>\n",
       "    </tr>\n",
       "  </tbody>\n",
       "</table>\n",
       "</div>"
      ],
      "text/plain": [
       "        date   price\n",
       "0 2010-11-01  1787.0\n",
       "1 2010-12-01  1812.0\n",
       "2 2011-01-01  1822.0\n",
       "3 2011-02-01  1827.0\n",
       "4 2011-03-01  1846.0"
      ]
     },
     "execution_count": 24,
     "metadata": {},
     "output_type": "execute_result"
    }
   ],
   "source": [
    "df_JerseyCity.head()"
   ]
  },
  {
   "cell_type": "code",
   "execution_count": 25,
   "metadata": {},
   "outputs": [],
   "source": [
    "df_Hoboken.to_csv('Hoboken_price.csv', index=False)"
   ]
  },
  {
   "cell_type": "code",
   "execution_count": 26,
   "metadata": {},
   "outputs": [],
   "source": [
    "df_UnionCity.to_csv('UnionCity_price.csv', index=False)"
   ]
  },
  {
   "cell_type": "code",
   "execution_count": 27,
   "metadata": {},
   "outputs": [],
   "source": [
    "df_JerseyCity.to_csv('JerseyCity_price.csv', index=False)"
   ]
  }
 ],
 "metadata": {
  "kernelspec": {
   "display_name": "Python 3",
   "language": "python",
   "name": "python3"
  },
  "language_info": {
   "codemirror_mode": {
    "name": "ipython",
    "version": 3
   },
   "file_extension": ".py",
   "mimetype": "text/x-python",
   "name": "python",
   "nbconvert_exporter": "python",
   "pygments_lexer": "ipython3",
   "version": "3.7.2"
  }
 },
 "nbformat": 4,
 "nbformat_minor": 2
}
